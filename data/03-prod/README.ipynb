{
 "cells": [
  {
   "cell_type": "markdown",
   "id": "d3e671f8",
   "metadata": {},
   "source": [
    "## Infrastruktur - Produktion\n",
    "\n",
    "![](https://gitlab.com/ch-tbz-wb/Stud/CnA/-/raw/main/2_Unterrichtsressourcen/x_gitressourcen/a-infra.png)\n",
    "\n",
    "- - -\n",
    "\n",
    "Unser Kunde, die **Auto Shop GmbH**, ist in der **DACH-Region** tätig. Der Shop wird derzeit über [Docker Compose](https://gitlab.com/ch-mc-b/autoshop-ms/app/shop) betrieben, soll jedoch auf **Kubernetes** migriert werden. \n",
    "\n",
    "Die drei VMs sind bereits erstellt, diese müssen (falls nicht automatisch erfolgt) gejoint werden:\n",
    "\n",
    "* [Join Worker Nodes](A-infra/00-microk8s-join.ipynb)"
   ]
  },
  {
   "cell_type": "code",
   "execution_count": null,
   "id": "deeb0497",
   "metadata": {},
   "outputs": [],
   "source": [
    "%%bash\n",
    "kubectl get nodes"
   ]
  },
  {
   "cell_type": "markdown",
   "id": "6fbcdf7e",
   "metadata": {},
   "source": [
    "\n",
    "Mittels des Cloud-init Logs kann die Installation auf etwaige Fehler überprüft werden, ebenfalls erhalten wir eine Übersicht über die installierten Module"
   ]
  },
  {
   "cell_type": "code",
   "execution_count": null,
   "id": "909fcf82",
   "metadata": {},
   "outputs": [],
   "source": [
    "%%bash\n",
    "sudo cat /var/log/cloud-init-output.log | grep -E 'INFO|ERROR' || true"
   ]
  },
  {
   "cell_type": "markdown",
   "id": "96128c2b",
   "metadata": {},
   "source": [
    "\n",
    "- - - \n",
    "\n",
    "Ist alles korrekt durchgelaufen, kann anhand der Systemdienste (linux daemons) die Distribution erkannt werden:"
   ]
  },
  {
   "cell_type": "code",
   "execution_count": null,
   "id": "a20c3df4",
   "metadata": {},
   "outputs": [],
   "source": [
    "%%bash\n",
    "systemctl list-units --type=service | grep -E 'microk8s|k3s|k0s' || echo \"Keine K8s Distribution gefunden\""
   ]
  },
  {
   "cell_type": "markdown",
   "id": "9e9ecfbf",
   "metadata": {},
   "source": [
    "Um eine Verbindung mittels `ssh` in die VM herzustellen, gebt den nachfolgenden Befehl auf Eurem Notebook ein.\n",
    "\n",
    "Die `ssh`-Keys sind [hier](https://github.com/mc-b/lerncloud/tree/main/ssh)."
   ]
  },
  {
   "cell_type": "code",
   "execution_count": null,
   "id": "74faf958",
   "metadata": {},
   "outputs": [],
   "source": [
    "%%bash\n",
    "echo \"ssh -i ~/.ssh/lerncloud ubuntu@$(cat ~/work/server-ip)\""
   ]
  },
  {
   "cell_type": "markdown",
   "id": "f42fd44e",
   "metadata": {},
   "source": [
    "Falls installiert, kann das **Kubernetes Dashboard** (aus einer der oben genannten Distributionen) über die folgende URL aufgerufen werden. Ein Token oder eine Kubeconfig-Datei ist nicht erforderlich – einfach auf \"Skip\" bzw. \"Überspringen\" klicken."
   ]
  },
  {
   "cell_type": "code",
   "execution_count": null,
   "id": "dc99bd17",
   "metadata": {},
   "outputs": [],
   "source": [
    "%%bash\n",
    "echo \"https://$(cat ~/work/server-ip)\":30443"
   ]
  },
  {
   "cell_type": "markdown",
   "id": "8b2397d0",
   "metadata": {},
   "source": [
    "---\n",
    "\n",
    "### Installation der Applikationen und Zusatzprodukte\n",
    "\n",
    "Als Grundinstallation für die Firma **Auto Shop GmbH**, setzen wir neben dem Webshop (Applikation) folgende Produkte auf:\n",
    "\n",
    "* [Applikationen](../A-infra/03-autoshop-ms.ipynb)\n",
    "* [Zertifikate (cert-manager)](../A-infra/04-cert-manager.ipynb)\n",
    "* [Container Image Registry (Harbor)](../A-infra/05-harbor.ipynb)\n",
    "* [VM für Datenbank (kubevirt)](../A-infra/08-kube-virt.ipynb)\n",
    "* [Persistente Ablage (longhorn)](../A-infra/06-longhorn.ipynb)\n",
    "* [Software Deployment (ArgoCD)](../A-infra/09-ArgoCD.ipynb)\n",
    "\n",
    "**Hinweis** nach dem wir diese mit den Notebooks getestet haben, wird dessen Installation in Terraform überführt und automatisiert."
   ]
  },
  {
   "cell_type": "markdown",
   "id": "82cb6716",
   "metadata": {},
   "source": [
    "- - -\n",
    "\n",
    "### Weitere Phasen/Sprints\n",
    "\n",
    "* [B - Industrial Internet of Things (IIoT) oder Operator Pattern](../B-IIoT/README.ipynb)\n",
    "* [C - Traffic Management](../C-Traffic-Management/README.ipynb)\n",
    "* [D - Serving, Eventing](../D-Serving-Eventing/README.ipynb)\n",
    "* [E - Monitoring](../E-Monitoring/README.ipynb)\n",
    "* [F - Logs auswerten](../F-Logs/README.ipynb)\n",
    "* [G - Datenbanken](../G-DB/README.ipynb)\n",
    "* [H - Policies](../H-Policies/README.ipynb)\n",
    "* [I - Multi Cluster (Cilium)](../I-MultiCluster/README.ipynb)\n",
    "\n"
   ]
  },
  {
   "cell_type": "code",
   "execution_count": null,
   "id": "ec3d83b8",
   "metadata": {},
   "outputs": [],
   "source": []
  }
 ],
 "metadata": {
  "kernelspec": {
   "display_name": "Python 3 (ipykernel)",
   "language": "python",
   "name": "python3"
  },
  "language_info": {
   "codemirror_mode": {
    "name": "ipython",
    "version": 3
   },
   "file_extension": ".py",
   "mimetype": "text/x-python",
   "name": "python",
   "nbconvert_exporter": "python",
   "pygments_lexer": "ipython3",
   "version": "3.12.3"
  }
 },
 "nbformat": 4,
 "nbformat_minor": 5
}
