{
 "cells": [
  {
   "cell_type": "markdown",
   "id": "210d6fa8",
   "metadata": {},
   "source": [
    "## KubeVirt\n",
    "\n",
    "Dieses Notebook enthält die notwendigen Befehle zur Installation, Konfiguration und Nutzung von KubeVirt für virtuelle Maschinen auf Kubernetes.\n",
    "\n",
    "**Installation von KubeVirt**\n",
    "\n",
    "Dazu greifen wir auf Scripts aus dem [Lern Cloud Projekt](https://github.com/mc-b/lerncloud/tree/main/services) zurück\n"
   ]
  },
  {
   "cell_type": "code",
   "execution_count": null,
   "id": "ee602119",
   "metadata": {},
   "outputs": [],
   "source": [
    "%%bash\n",
    "curl -sfL https://raw.githubusercontent.com/mc-b/lerncloud/main/services/kubevirt.sh | bash -"
   ]
  },
  {
   "cell_type": "markdown",
   "id": "be27008f",
   "metadata": {},
   "source": [
    "## Testen\n",
    "\n",
    "### Variante A: VM ab Container-Image\n",
    "\n",
    "Das OS-Image wurde von den kubevirt Personen als Container Image verpackt.\n",
    "\n",
    "Ist einfacher zu starten, bedeutet aber auch das zusätzliche Arbeit nötig."
   ]
  },
  {
   "cell_type": "code",
   "execution_count": null,
   "id": "1c42065a",
   "metadata": {},
   "outputs": [],
   "source": [
    "%%bash\n",
    "kubectl apply -f https://kubevirt.io/labs/manifests/vm.yaml"
   ]
  },
  {
   "cell_type": "code",
   "execution_count": null,
   "id": "038b9929",
   "metadata": {},
   "outputs": [],
   "source": [
    "%%bash\n",
    "virtctl start testvm"
   ]
  },
  {
   "cell_type": "markdown",
   "id": "b63ed6bd",
   "metadata": {},
   "source": [
    "Kontrolle ob Storage initialisert wurde und VM startet"
   ]
  },
  {
   "cell_type": "code",
   "execution_count": null,
   "id": "3cf927ce",
   "metadata": {},
   "outputs": [],
   "source": [
    "%%bash\n",
    "kubectl get sc,pv,pvc,vm,vmi"
   ]
  },
  {
   "cell_type": "markdown",
   "id": "1bf323b5",
   "metadata": {},
   "source": [
    "Verbinden mittels der Console, muss in der VM erfolgen:\n",
    "\n",
    "    virtctl console testvm\n",
    "    \n",
    "exit mittels `ctrl+]`    "
   ]
  },
  {
   "cell_type": "markdown",
   "id": "1d46ffa3",
   "metadata": {},
   "source": [
    "Wenn es nicht läuft, Logs vom virt-handler im Namespace `kubevirt` prüfen"
   ]
  },
  {
   "cell_type": "code",
   "execution_count": null,
   "id": "f8804862",
   "metadata": {},
   "outputs": [],
   "source": [
    "%%bash\n",
    "kubectl logs -n kubevirt daemonset/virt-handler"
   ]
  },
  {
   "cell_type": "markdown",
   "id": "b3c88690",
   "metadata": {},
   "source": [
    "### Variante B: VM mittels Containerized Data Importer\n",
    "\n",
    "Das OS-Image (normaleweise mit Cloud-Image bezeichnet) kann dabei 1:1 von der entsprechenden Downloadsite verwendet werden. \n",
    "\n",
    "Ein Verpacken als Container Image entfällt.\n",
    "\n",
    "Dies braucht jedoch eine weitere Kubernetes Erweiterung den **Containerized Data Importer**."
   ]
  },
  {
   "cell_type": "markdown",
   "id": "485790db",
   "metadata": {},
   "source": [
    "### Erstellen des Data Volumes für Debian Cloud-Image\n",
    "\n",
    "Mit dieser Variante wird das OS-Image auf einem **Persistent Volume Claim** abgelegt.\n",
    "\n",
    "Für diese Variante braucht es einen installierten StorageClass Driver (z.B. [microk8 hostpath-storage](https://microk8s.io/docs/addon-hostpath-storage), [longhorn](https://longhorn.io/), etc.)"
   ]
  },
  {
   "cell_type": "code",
   "execution_count": null,
   "id": "29d42d65",
   "metadata": {},
   "outputs": [],
   "source": [
    "%%bash\n",
    "kubectl apply -f - <<EOF\n",
    "apiVersion: cdi.kubevirt.io/v1beta1\n",
    "kind: DataVolume\n",
    "metadata:\n",
    "  name: \"debian\"\n",
    "spec:\n",
    "  source:\n",
    "    http:\n",
    "      url: \"https://cloud.debian.org/images/cloud/bullseye/latest/debian-11-generic-amd64.qcow2\"\n",
    "  pvc:\n",
    "    accessModes:\n",
    "    - ReadWriteOnce\n",
    "    resources:\n",
    "      requests:\n",
    "        storage: \"4Gi\"         \n",
    "EOF\n"
   ]
  },
  {
   "cell_type": "markdown",
   "id": "b9f119ba",
   "metadata": {},
   "source": [
    "### Erstellen der Debian VM"
   ]
  },
  {
   "cell_type": "code",
   "execution_count": null,
   "id": "89353fc1",
   "metadata": {},
   "outputs": [],
   "source": [
    "%%bash\n",
    "kubectl apply -f - <<EOF\n",
    "apiVersion: kubevirt.io/v1\n",
    "kind: VirtualMachine\n",
    "metadata:\n",
    "  labels:\n",
    "    kubevirt.io/os: linux\n",
    "  name: debian\n",
    "spec:\n",
    "  running: true\n",
    "  template:\n",
    "    metadata:\n",
    "      creationTimestamp: null\n",
    "      labels:\n",
    "        kubevirt.io/domain: debian\n",
    "    spec:\n",
    "      domain:\n",
    "        cpu:\n",
    "          cores: 1\n",
    "        devices:\n",
    "          disks:\n",
    "          - disk:\n",
    "              bus: virtio\n",
    "            name: disk0\n",
    "          - cdrom:\n",
    "              bus: sata\n",
    "              readonly: true\n",
    "            name: cloudinitdisk\n",
    "        resources:\n",
    "          requests:\n",
    "            memory: 2G\n",
    "      volumes:\n",
    "      - name: disk0\n",
    "        persistentVolumeClaim:\n",
    "          claimName: debian\n",
    "      - cloudInitNoCloud:\n",
    "          userData: |\n",
    "            #cloud-config\n",
    "            system_info:\n",
    "              default_user:\n",
    "                name: debian\n",
    "                home: /home/debian\n",
    "            password: insecure\n",
    "            chpasswd: { expire: False }\n",
    "            hostname: debian-k8s\n",
    "            ssh_pwauth: True\n",
    "            disable_root: false\n",
    "            ssh_authorized_keys:\n",
    "            - ssh-rsa AAAAB3Nza...YOUR_SSH_KEY...insecure@lerncloud\n",
    "            packages:\n",
    "              - qemu-guest-agent               \n",
    "        name: cloudinitdisk\n",
    "EOF\n"
   ]
  },
  {
   "cell_type": "markdown",
   "id": "27694f3c",
   "metadata": {},
   "source": [
    "### Kontrolle der Einrichtung"
   ]
  },
  {
   "cell_type": "code",
   "execution_count": null,
   "id": "f287e0cd",
   "metadata": {},
   "outputs": [],
   "source": [
    "%%bash\n",
    "kubectl get sc,pv,pvc,dv,vm,vmi -o wide"
   ]
  },
  {
   "cell_type": "markdown",
   "id": "42b0e4d7",
   "metadata": {},
   "source": [
    "- - -\n",
    "\n",
    "## Aufträge\n",
    "\n",
    "* Erweitert das Cloud-init Script von der Debian VM um die Installation von `nginx`.\n",
    "* Erstellt einen Service um auf den `nginx` welcher in der VM läuft zugreifen zu können.\n",
    "* Verwendet Ubuntu statt Debian als OS für die VM.\n",
    "* Deaktiviert die Emulation (VM in VM) und versucht die VM direkt auf der K8s Installation laufen zu lassen."
   ]
  },
  {
   "cell_type": "markdown",
   "id": "5b002bcc",
   "metadata": {},
   "source": [
    "### Links\n",
    "- [KubeVirt User Guide](https://kubevirt.io/user-guide/cluster_admin/installation/)\n",
    "- [Run VMs like a Pod](https://eng.d2iq.com/blog/kubevirt-part-1-run-vms-like-a-pod/)\n",
    "- [Ubuntu Installations Images](https://cloud-images.ubuntu.com/)"
   ]
  },
  {
   "cell_type": "markdown",
   "id": "501afcf1",
   "metadata": {},
   "source": [
    "- - -\n",
    "## Aufräumen von KubeVirt und CDI"
   ]
  },
  {
   "cell_type": "code",
   "execution_count": null,
   "id": "945b12cd",
   "metadata": {},
   "outputs": [],
   "source": [
    "%%bash\n",
    "kubectl delete vm debian\n",
    "kubectl delete datavolume debian\n",
    "\n",
    "export VERSION=$(curl -Ls https://github.com/kubevirt/containerized-data-importer/releases/latest | grep -m 1 -o \"v[0-9]\\.[0-9]*\\.[0-9]*\")\n",
    "kubectl delete -f https://github.com/kubevirt/containerized-data-importer/releases/download/$VERSION/cdi-operator.yaml\n",
    "kubectl delete -f https://github.com/kubevirt/containerized-data-importer/releases/download/$VERSION/cdi-cr.yaml    \n",
    "\n",
    "export VERSION=$(curl https://storage.googleapis.com/kubevirt-prow/release/kubevirt/kubevirt/stable.txt)\n",
    "kubectl delete -f https://github.com/kubevirt/kubevirt/releases/download/${VERSION}/kubevirt-operator.yaml    \n",
    "kubectl delete -f https://github.com/kubevirt/kubevirt/releases/download/${VERSION}/kubevirt-cr.yaml    \n"
   ]
  }
 ],
 "metadata": {
  "kernelspec": {
   "display_name": "Python 3 (ipykernel)",
   "language": "python",
   "name": "python3"
  },
  "language_info": {
   "codemirror_mode": {
    "name": "ipython",
    "version": 3
   },
   "file_extension": ".py",
   "mimetype": "text/x-python",
   "name": "python",
   "nbconvert_exporter": "python",
   "pygments_lexer": "ipython3",
   "version": "3.12.3"
  }
 },
 "nbformat": 4,
 "nbformat_minor": 5
}
