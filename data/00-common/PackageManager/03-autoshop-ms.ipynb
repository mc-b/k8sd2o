{
 "cells": [
  {
   "cell_type": "markdown",
   "id": "89ce097e",
   "metadata": {},
   "source": [
    "## Auto Shop GmbH Installation Script\n",
    "Dieses Notebook enthält die notwendigen Befehle zur Installation der Auto Shop GmbH Applikation mittels Helm auf Kubernetes.\n"
   ]
  },
  {
   "cell_type": "markdown",
   "id": "2baabaa7",
   "metadata": {},
   "source": [
    "### Git Repository klonen"
   ]
  },
  {
   "cell_type": "code",
   "execution_count": null,
   "id": "6215a232",
   "metadata": {},
   "outputs": [],
   "source": [
    "%%bash\n",
    "git clone https://gitlab.com/ch-mc-b/autoshop-ms/infra/helm.git\n",
    "cd helm"
   ]
  },
  {
   "cell_type": "markdown",
   "id": "5d084e50",
   "metadata": {},
   "source": [
    "### Kubernetes Namespaces erstellen und Helm Installation durchführen"
   ]
  },
  {
   "cell_type": "code",
   "execution_count": null,
   "id": "b8101758",
   "metadata": {},
   "outputs": [],
   "source": [
    "%%bash\n",
    "cd helm\n",
    "export KVMHOST=\"$(cat ~/work/server-ip)\"\n",
    "\n",
    "helm install autoshop-ch ./autoshop --namespace m01-ch --create-namespace --set ingress.host=ch.${KVMHOST}-edutbz.com --set image.tag=2.1.0\n",
    "\n",
    "helm install autoshop-at ./autoshop --namespace m01-at --create-namespace --set ingress.host=at.${KVMHOST}-edutbz.com --set image.tag=2.0.0\n",
    "\n",
    "helm install autoshop-d ./autoshop  --namespace m01-d  --create-namespace --set ingress.host=d.${KVMHOST}-edutbz.com  --set image.tag=1.0.0"
   ]
  },
  {
   "cell_type": "markdown",
   "id": "53b7d965",
   "metadata": {},
   "source": [
    "**Hinweis**: Kubernetes-Zertifikate werden verwendet. Testen durch Aufruf der von Helm ausgegebenen URLs."
   ]
  },
  {
   "cell_type": "code",
   "execution_count": null,
   "id": "7e09c694",
   "metadata": {},
   "outputs": [],
   "source": [
    "%%bash\n",
    "helm list -A"
   ]
  },
  {
   "cell_type": "markdown",
   "id": "e379356f",
   "metadata": {},
   "source": [
    "Kontrolle ob alle Ressourcen sauber erstellt wurden:"
   ]
  },
  {
   "cell_type": "code",
   "execution_count": null,
   "id": "feacd5bb",
   "metadata": {},
   "outputs": [],
   "source": [
    "%%bash\n",
    "kubectl get all,ingress -n m01-ch"
   ]
  },
  {
   "cell_type": "markdown",
   "id": "915c54c4",
   "metadata": {},
   "source": [
    "Mittels `curl` und `-H \"Host:\"` können wir gezielt einen URL ansprechen"
   ]
  },
  {
   "cell_type": "code",
   "execution_count": null,
   "id": "19c6b929",
   "metadata": {},
   "outputs": [],
   "source": [
    "%%bash\n",
    "export KVMHOST=\"$(cat ~/work/server-ip)\"\n",
    "curl -k -H \"Host: ch.${KVMHOST}-edutbz.com\" https://localhost:443/webshop"
   ]
  },
  {
   "cell_type": "markdown",
   "id": "04ad1118",
   "metadata": {},
   "source": [
    "## DNS Server Einträge\n",
    "\n",
    "Damit die Applikationen jeweils unter\n",
    "* ch.[fqdn]\n",
    "* at.[fqdn]\n",
    "* d.[fqdn]\n",
    "\n",
    "ansprechbar sind müssen folgende Einträge erfasst werden:"
   ]
  },
  {
   "cell_type": "code",
   "execution_count": null,
   "id": "abcfbf99",
   "metadata": {},
   "outputs": [],
   "source": [
    "%%bash\n",
    "echo \"Domain : $(cat ~/work/server-ip)-edutbz.com\"\n",
    "echo \"- Record: ch, $(hostname -I | cut '-d ' -f1)\"\n",
    "echo \"- Record: at, $(hostname -I | cut '-d ' -f1)\"\n",
    "echo \"- Record: d, $(hostname -I | cut '-d ' -f1)\""
   ]
  },
  {
   "cell_type": "markdown",
   "id": "50b44850",
   "metadata": {},
   "source": [
    "Für `/etc/hosts` sind die Einträge wie folgt:"
   ]
  },
  {
   "cell_type": "code",
   "execution_count": null,
   "id": "e4845279",
   "metadata": {},
   "outputs": [],
   "source": [
    "%%bash\n",
    "echo \"$(cat ~/work/server-ip) ch.$(cat ~/work/server-ip)-edutbz.com\"\n",
    "echo \"$(cat ~/work/server-ip) at.$(cat ~/work/server-ip)-edutbz.com\"\n",
    "echo \"$(cat ~/work/server-ip)d.$(cat ~/work/server-ip)-edutbz.com\""
   ]
  },
  {
   "cell_type": "markdown",
   "id": "2c19dd1e",
   "metadata": {},
   "source": [
    "### Fehleranalyse läuft ein Ingress Dienst?\n",
    "\n",
    "Dann sollte mindestens eine `ingressClass` vorhanden sein."
   ]
  },
  {
   "cell_type": "code",
   "execution_count": null,
   "id": "8c9355b8",
   "metadata": {},
   "outputs": [],
   "source": [
    "%%bash\n",
    "kubectl get ingressClasses"
   ]
  },
  {
   "cell_type": "code",
   "execution_count": null,
   "id": "7eb52029",
   "metadata": {},
   "outputs": [],
   "source": []
  }
 ],
 "metadata": {
  "kernelspec": {
   "display_name": "Python 3 (ipykernel)",
   "language": "python",
   "name": "python3"
  },
  "language_info": {
   "codemirror_mode": {
    "name": "ipython",
    "version": 3
   },
   "file_extension": ".py",
   "mimetype": "text/x-python",
   "name": "python",
   "nbconvert_exporter": "python",
   "pygments_lexer": "ipython3",
   "version": "3.12.3"
  }
 },
 "nbformat": 4,
 "nbformat_minor": 5
}
