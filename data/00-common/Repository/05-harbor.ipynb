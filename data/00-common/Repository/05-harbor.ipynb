{
 "cells": [
  {
   "cell_type": "markdown",
   "id": "734c5cee",
   "metadata": {},
   "source": [
    "## Harbor Installation\n",
    "Dieses Notebook enthält die notwendigen Befehle zur Installation und Konfiguration von Harbor mittels Docker Compose.\n"
   ]
  },
  {
   "cell_type": "markdown",
   "id": "c4e83517",
   "metadata": {},
   "source": [
    "### Harbor Installation"
   ]
  },
  {
   "cell_type": "code",
   "execution_count": null,
   "id": "e8f71502",
   "metadata": {},
   "outputs": [],
   "source": [
    "%%bash\n",
    "sudo apt-get install docker-compose -y"
   ]
  },
  {
   "cell_type": "code",
   "execution_count": null,
   "id": "94eea751",
   "metadata": {},
   "outputs": [],
   "source": [
    "%%bash\n",
    "wget https://github.com/goharbor/harbor/releases/download/v2.12.2/harbor-offline-installer-v2.12.2.tgz\n",
    "tar xzf harbor-offline-installer-v2.12.2.tgz\n",
    "cd harbor"
   ]
  },
  {
   "cell_type": "markdown",
   "id": "426b15d0",
   "metadata": {},
   "source": [
    "### TLS Zertifikate vom Cert-Manager abrufen"
   ]
  },
  {
   "cell_type": "code",
   "execution_count": null,
   "id": "91cc6eb4",
   "metadata": {},
   "outputs": [],
   "source": [
    "%%bash\n",
    "cd harbor\n",
    "kubectl get secret selfsigned-cert-secret -n m01-ch -o jsonpath=\"{.data.tls\\.crt}\" | base64 --decode > tls.crt\n",
    "kubectl get secret selfsigned-cert-secret -n m01-ch -o jsonpath=\"{.data.tls\\.key}\" | base64 --decode > tls.key"
   ]
  },
  {
   "cell_type": "markdown",
   "id": "40775a41",
   "metadata": {},
   "source": [
    "### Zertifikatsinhalt prüfen"
   ]
  },
  {
   "cell_type": "code",
   "execution_count": null,
   "id": "59473303",
   "metadata": {},
   "outputs": [],
   "source": [
    "%%bash\n",
    "cd harbor\n",
    "openssl x509 -in tls.crt -text -noout"
   ]
  },
  {
   "cell_type": "markdown",
   "id": "15c642ec",
   "metadata": {},
   "source": [
    "### Harbor Konfiguration anpassen"
   ]
  },
  {
   "cell_type": "code",
   "execution_count": null,
   "id": "776a563c",
   "metadata": {},
   "outputs": [],
   "source": [
    "%%bash\n",
    "cd harbor\n",
    "cp harbor.yml.tmpl harbor.yml\n",
    "sed -i -e \"s/reg.mydomain.com/ch.$(cat ~/work/server-ip)-edutbz.com/g\" harbor.yml\n",
    "sed -i -e 's/port: 80/port: 9090/g' harbor.yml\n",
    "sed -i -e 's/port: 443/port: 9443/g' harbor.yml\n",
    "sed -i -e 's;certificate: /your/certificate/path;certificate: /home/ubuntu/cascpm/A-infra/harbor/tls.crt;g' harbor.yml\n",
    "sed -i -e 's;private_key: /your/private/key/path;private_key: /home/ubuntu/cascpm/A-infra/harbor/tls.key;g' harbor.yml"
   ]
  },
  {
   "cell_type": "markdown",
   "id": "8a48e077",
   "metadata": {},
   "source": [
    "Folgende Änderungen in `harbor.yml` vornehmen:\n",
    "\n",
    "- `hostname: reg.mydomain.com` → `ch.cloud-hf-08-edutbz.com`\n",
    "\n",
    "- `http.port: 80` → `8080`\n",
    "\n",
    "- `https.port: 443` → `9443`\n",
    "\n",
    "- `certificate: /your/certificate/path` → `/home/ubuntu/helm/tls.crt`\n",
    "\n",
    "- `private_key: /your/private/key/path` → `/home/ubuntu/helm/tls.key`\n"
   ]
  },
  {
   "cell_type": "markdown",
   "id": "d7b52de1",
   "metadata": {},
   "source": [
    "### Harbor starten"
   ]
  },
  {
   "cell_type": "code",
   "execution_count": null,
   "id": "3f5694fa",
   "metadata": {},
   "outputs": [],
   "source": [
    "%%bash\n",
    "cd harbor\n",
    "sudo ./install.sh --with-trivy"
   ]
  },
  {
   "cell_type": "markdown",
   "id": "d60d2bb3",
   "metadata": {},
   "source": [
    "Harbor ist dann via dem untenstehenden URL erreichbar.\n",
    "Benutzer: `admin`, Passwort: `Harbor12345`."
   ]
  },
  {
   "cell_type": "code",
   "execution_count": null,
   "id": "063efd5e",
   "metadata": {},
   "outputs": [],
   "source": [
    "%%bash\n",
    "echo \"https://ch.$(cat ~/work/server-ip)-edutbz.com:9443\""
   ]
  },
  {
   "cell_type": "markdown",
   "id": "9816398b",
   "metadata": {},
   "source": [
    "### Docker: Selbst signiertes Zertifikat vertrauenswürdig machen"
   ]
  },
  {
   "cell_type": "code",
   "execution_count": null,
   "id": "294f9fe0",
   "metadata": {},
   "outputs": [],
   "source": [
    "%%bash\n",
    "cd harbor\n",
    "kubectl get secret selfsigned-cert-secret -n m01-ch -o jsonpath=\"{.data.ca\\.crt}\" | base64 --decode > ca.crt"
   ]
  },
  {
   "cell_type": "code",
   "execution_count": null,
   "id": "7e2333cb",
   "metadata": {},
   "outputs": [],
   "source": [
    "%%bash\n",
    "cd harbor\n",
    "sudo mkdir -p /etc/docker/certs.d/ch.$(cat ~/work/server-ip)-edutbz.com:9443\n",
    "sudo cp ca.crt /etc/docker/certs.d/ch.$(cat ~/work/server-ip)-edutbz.com:9443/ca.crt"
   ]
  },
  {
   "cell_type": "markdown",
   "id": "624facb9",
   "metadata": {},
   "source": [
    "Docker und Harbor neu starten, damit das Zertifikat geladen wird:"
   ]
  },
  {
   "cell_type": "code",
   "execution_count": null,
   "id": "ccec257b",
   "metadata": {},
   "outputs": [],
   "source": [
    "%%bash\n",
    "cd harbor\n",
    "sudo docker-compose down -v\n",
    "sudo systemctl restart docker\n",
    "sudo ./install.sh --with-trivy"
   ]
  },
  {
   "cell_type": "markdown",
   "id": "7c970832",
   "metadata": {},
   "source": [
    "Jetzt sollte `docker login` ohne Fehlermeldung funktionieren.\n",
    "\n",
    "    docker login ch.cloud-hf-08-edutbz.com:9443"
   ]
  },
  {
   "cell_type": "markdown",
   "id": "753b5bea",
   "metadata": {},
   "source": [
    "### microk8s: Selbst signiertes Zertifikat vertrauenswürdig machen (nicht getestet)"
   ]
  },
  {
   "cell_type": "code",
   "execution_count": null,
   "id": "eb8b099d",
   "metadata": {},
   "outputs": [],
   "source": [
    "%%bash\n",
    "cd harbor\n",
    "sudo mkdir -p /var/snap/microk8s/current/certs.d/ch.$(cat ~/work/server-ip)-edutbz.com:9443\n",
    "sudo cp ca.crt /var/snap/microk8s/current/certs.d/ch.$(cat ~/work/server-ip)-edutbz.com:9443/ca.crt\n",
    "\n",
    "sudo microk8s stop\n",
    "sudo microk8s start"
   ]
  },
  {
   "cell_type": "markdown",
   "id": "9ac926cd",
   "metadata": {},
   "source": [
    "### Aufträge\n",
    "- Repliziert Eure Container Registries bzw. die Images nach Harbor.\n",
    "- Erstellt ein Container Image und legt es in die Harbor Registry ab."
   ]
  },
  {
   "cell_type": "markdown",
   "id": "451a8559",
   "metadata": {},
   "source": [
    "**Links:**\n",
    "[Harbor Installer](https://goharbor.io/docs/2.12.0/install-config/run-installer-script/)"
   ]
  }
 ],
 "metadata": {
  "kernelspec": {
   "display_name": "Python 3 (ipykernel)",
   "language": "python",
   "name": "python3"
  },
  "language_info": {
   "codemirror_mode": {
    "name": "ipython",
    "version": 3
   },
   "file_extension": ".py",
   "mimetype": "text/x-python",
   "name": "python",
   "nbconvert_exporter": "python",
   "pygments_lexer": "ipython3",
   "version": "3.12.3"
  }
 },
 "nbformat": 4,
 "nbformat_minor": 5
}
