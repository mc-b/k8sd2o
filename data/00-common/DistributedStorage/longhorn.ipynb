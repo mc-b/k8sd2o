{
 "cells": [
  {
   "cell_type": "markdown",
   "id": "2d287355",
   "metadata": {},
   "source": [
    "## Longhorn Installation und Nutzung\n",
    "Dieses Notebook enthält die notwendigen Befehle zur Installation, Konfiguration und Nutzung von Longhorn als verteiltes Blockspeichersystem für Kubernetes.\n"
   ]
  },
  {
   "cell_type": "markdown",
   "id": "e3c7a263",
   "metadata": {},
   "source": [
    "### Umgebungsprüfung"
   ]
  },
  {
   "cell_type": "code",
   "execution_count": null,
   "id": "254296b8",
   "metadata": {},
   "outputs": [],
   "source": [
    "%%bash\n",
    "curl -sSfL https://raw.githubusercontent.com/longhorn/longhorn/v1.8.0/scripts/environment_check.sh | bash"
   ]
  },
  {
   "cell_type": "markdown",
   "id": "f4a21793",
   "metadata": {},
   "source": [
    "### Installation von Longhorn\n",
    "\n",
    "Dazu greifen wir auf Scripts aus dem [Lern Cloud Projekt](https://github.com/mc-b/lerncloud/tree/main/services) zurück:\n",
    "* das erste deaktiviert die [Multi Path Routing](https://de.wikipedia.org/wiki/Multi-Path_Routing) Unterstützung und aktiviert [iSCSI](https://de.wikipedia.org/wiki/ISCSI)\n",
    "* das zweite Installiert longhorm mittels `helm`.\n",
    "\n",
    "Nach Durchlaufen von storage-patch.sh sollte die Umgebungsprüfung keine Fehler mehr anzeigen."
   ]
  },
  {
   "cell_type": "code",
   "execution_count": null,
   "id": "608711af",
   "metadata": {},
   "outputs": [],
   "source": [
    "%%bash\n",
    "curl -sfL https://raw.githubusercontent.com/mc-b/lerncloud/main/services/storage-patch.sh | bash -\n",
    "curl -sfL https://raw.githubusercontent.com/mc-b/lerncloud/main/services/longhorn.sh | bash -"
   ]
  },
  {
   "cell_type": "markdown",
   "id": "9241db89",
   "metadata": {},
   "source": [
    "### Longhorn UI\n",
    "\n",
    "Longhorn stellt ein UI zur Verfügung."
   ]
  },
  {
   "cell_type": "code",
   "execution_count": null,
   "id": "554bc9e8",
   "metadata": {},
   "outputs": [],
   "source": [
    "%%bash\n",
    "kubectl patch service longhorn-frontend --namespace longhorn-system -p '{\"spec\": {\"type\": \"NodePort\"}}'\n",
    "echo \"http://\"$(cat ~/work/server-ip)\":$(kubectl get -n longhorn-system service longhorn-frontend -o=jsonpath='{ .spec.ports[0].nodePort }')/\""
   ]
  },
  {
   "cell_type": "markdown",
   "id": "60c850d6",
   "metadata": {},
   "source": [
    "Die Informationen vom UI sehen wir auch als Kubernetes Ressourcen"
   ]
  },
  {
   "cell_type": "code",
   "execution_count": null,
   "id": "fcf0a6f3",
   "metadata": {},
   "outputs": [],
   "source": [
    "%%bash\n",
    "kubectl get storageclasses,persistentvolumes,persistentvolumeclaims"
   ]
  },
  {
   "cell_type": "markdown",
   "id": "9ab519d6",
   "metadata": {},
   "source": [
    "Wenn die PersistentVolumeClaims `longhorn-XXX` den Status `Bound` haben, war die Installation erfolgreich."
   ]
  },
  {
   "cell_type": "markdown",
   "id": "8b976a33",
   "metadata": {},
   "source": [
    "- - -\n",
    "\n",
    "## Testen\n",
    "\n",
    "<img src=\"https://kubernetes.io/images/docs/pod.svg\" width=\"200\">\n",
    "\n",
    "Quelle: [Pods with multiple containers ](https://kubernetes.io/docs/concepts/workloads/pods/#how-pods-manage-multiple-containers)\n",
    "\n",
    "---\n",
    "\n",
    "Dazu verwenden wir den Speicher mit zwei Pods, angelehnt an das [FilePuller/Web](https://kubernetes.io/docs/concepts/workloads/pods/#how-pods-manage-multiple-containers) Beispiel von Kubernetes.\n"
   ]
  },
  {
   "cell_type": "code",
   "execution_count": null,
   "id": "edd6e532",
   "metadata": {},
   "outputs": [],
   "source": [
    "%%bash\n",
    "kubectl apply -f - <<EOF\n",
    "apiVersion: v1\n",
    "kind: Pod\n",
    "metadata:\n",
    "  labels:\n",
    "    app.kubernetes.io/name: web\n",
    "  name: web\n",
    "spec:\n",
    "  containers:\n",
    "  - image: registry.gitlab.com/mc-b/misegr/httpd\n",
    "    name: apache\n",
    "    volumeMounts:\n",
    "    - mountPath: \"/usr/local/apache2/htdocs\"\n",
    "      name: \"web-storage\"    \n",
    "  volumes:\n",
    "    - name: web-storage\n",
    "      persistentVolumeClaim:\n",
    "        claimName: longhorn-rwx  \n",
    "EOF"
   ]
  },
  {
   "cell_type": "code",
   "execution_count": null,
   "id": "4545653b",
   "metadata": {},
   "outputs": [],
   "source": [
    "%%bash\n",
    "kubectl apply -f - <<EOF\n",
    "    apiVersion: v1\n",
    "    kind: Pod\n",
    "    metadata:\n",
    "      labels:\n",
    "        app.kubernetes.io/name: puller\n",
    "      name: puller\n",
    "    spec:\n",
    "      containers:\n",
    "      - image: registry.gitlab.com/mc-b/misegr/debian:jessie\n",
    "        name: file-puller\n",
    "        # Just spin & wait forever\n",
    "        command: [ \"/bin/bash\", \"-c\", \"--\" ]\n",
    "        args: [ \"while true; do echo \\\"<html><body><h1>Hallo es ist $(date)</h1></body></html>\\\" >/usr/local/apache2/htdocs/index.html; sleep 30; done;\" ]    \n",
    "        # Volumes im Container\n",
    "        volumeMounts:\n",
    "        - mountPath: \"/usr/local/apache2/htdocs\"\n",
    "          name: \"web-storage\"\n",
    "      # Volumes in Host      \n",
    "      volumes:\n",
    "        - name: web-storage\n",
    "          persistentVolumeClaim:\n",
    "            claimName: longhorn-rwx             \n",
    "EOF"
   ]
  },
  {
   "cell_type": "markdown",
   "id": "99fa4c5b",
   "metadata": {},
   "source": [
    "### Funktionalität prüfen\n",
    "\n",
    "Schauen ob die Pods laufen und eine `index.html` Datei produzieren"
   ]
  },
  {
   "cell_type": "code",
   "execution_count": null,
   "id": "145fd07d",
   "metadata": {},
   "outputs": [],
   "source": [
    "%%bash\n",
    "kubectl wait --for=condition=Ready pod/puller --timeout=300s\n",
    "kubectl get pods \n",
    "kubectl exec puller -- ls -l /usr/local/apache2/htdocs\n",
    "kubectl exec puller -- cat /usr/local/apache2/htdocs/index.html"
   ]
  },
  {
   "cell_type": "markdown",
   "id": "be531e0c",
   "metadata": {},
   "source": [
    "In der VM, Disk Image finden und Dateien darin ausgeben:\n",
    "\n",
    "    sudo -i\n",
    "    cd /var/lib/longhorn/replicas/pvc-[ID]\n",
    "    debugfs volume-head-000.img\n",
    "    ls -l \n",
    "    cat ....\n",
    "    CTRL+d"
   ]
  },
  {
   "cell_type": "markdown",
   "id": "4a58c990",
   "metadata": {},
   "source": [
    "Nach erfolgreichem Test können die Pods wieder gelöscht werden:"
   ]
  },
  {
   "cell_type": "code",
   "execution_count": null,
   "id": "a7e02c44",
   "metadata": {},
   "outputs": [],
   "source": [
    "%%bash\n",
    "kubectl delete pod puller\n",
    "kubectl delete pod web"
   ]
  },
  {
   "cell_type": "markdown",
   "id": "a0c49086",
   "metadata": {},
   "source": [
    "***\n",
    "\n",
    "## Aufträge\n",
    "- Richtet Longhorn als \"default\" Storage Class ein.\n",
    "- Portiert Eure Microservices inkl. Dateiablage auf Longhorn, was sind die Vorteile?\n",
    "- Überlegt Euch ein Backup Konzept mit longhorn und setzt dieses um."
   ]
  },
  {
   "cell_type": "markdown",
   "id": "61ea3846",
   "metadata": {},
   "source": [
    "**Links:**\n",
    "- [Offizielle Longhorn-Dokumentation](https://longhorn.io/docs/1.8.0/deploy/install/)\n",
    "- [Fehlerbehebung in Longhorn](https://longhorn.io/docs/1.8.0/troubleshooting/)"
   ]
  },
  {
   "cell_type": "markdown",
   "id": "7c121449",
   "metadata": {},
   "source": [
    "- - -\n",
    "## Aufräumen\n",
    "\n",
    "* Longhorn entfernen.\n",
    "* Eine \"Default\" Storage Class setzen\n"
   ]
  },
  {
   "cell_type": "code",
   "execution_count": null,
   "id": "d84a3e44",
   "metadata": {},
   "outputs": [],
   "source": [
    "%%bash\n",
    "kubectl delete PersistentVolumeClaim longhorn-rwo || true\n",
    "kubectl delete PersistentVolumeClaim longhorn-rwx || true\n",
    "kubectl -n longhorn-system patch settings.longhorn.io deleting-confirmation-flag --type=merge -p '{\"value\":\"true\"}'\n",
    "helm uninstall longhorn --namespace longhorn-\n",
    "\n",
    "# default StorageClass\n",
    "# kubectl patch storageclass microk8s-hostpath -p '{\"metadata\": {\"annotations\":{\"storageclass.kubernetes.io/is-default-class\":\"true\"}}}'\n"
   ]
  },
  {
   "cell_type": "code",
   "execution_count": null,
   "id": "f6cb76d3",
   "metadata": {},
   "outputs": [],
   "source": []
  }
 ],
 "metadata": {
  "kernelspec": {
   "display_name": "Python 3 (ipykernel)",
   "language": "python",
   "name": "python3"
  },
  "language_info": {
   "codemirror_mode": {
    "name": "ipython",
    "version": 3
   },
   "file_extension": ".py",
   "mimetype": "text/x-python",
   "name": "python",
   "nbconvert_exporter": "python",
   "pygments_lexer": "ipython3",
   "version": "3.12.3"
  }
 },
 "nbformat": 4,
 "nbformat_minor": 5
}
