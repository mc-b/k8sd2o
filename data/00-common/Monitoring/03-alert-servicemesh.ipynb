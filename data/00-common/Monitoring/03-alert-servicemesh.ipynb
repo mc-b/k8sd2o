{
 "cells": [
  {
   "cell_type": "markdown",
   "id": "153806e1",
   "metadata": {},
   "source": [
    "## Alert Manager\n",
    "\n",
    "Zur Prometheus Instanz erstellen wir eine Alert Manager Instanz"
   ]
  },
  {
   "cell_type": "code",
   "execution_count": null,
   "id": "de52a24e",
   "metadata": {},
   "outputs": [],
   "source": [
    "%%bash\n",
    "cat <<%EOF% | kubectl apply --namespace ms-rest -f -\n",
    "apiVersion: monitoring.coreos.com/v1\n",
    "kind: Alertmanager\n",
    "metadata:\n",
    "  name: alertmanager\n",
    "spec:\n",
    "  replicas: 1\n",
    "  resources:\n",
    "    requests:\n",
    "      memory: 200Mi\n",
    "---\n",
    "apiVersion: v1\n",
    "kind: Service\n",
    "metadata:\n",
    "  name: alertmanager\n",
    "spec:\n",
    "  ports:\n",
    "    - name: web\n",
    "      port: 9093\n",
    "      targetPort: 9093\n",
    "  type: NodePort      \n",
    "  selector:\n",
    "    alertmanager: alertmanager        \n",
    "%EOF%\n"
   ]
  },
  {
   "cell_type": "markdown",
   "id": "8fc450ca",
   "metadata": {},
   "source": [
    "## Alert Manager UI"
   ]
  },
  {
   "cell_type": "code",
   "execution_count": null,
   "id": "7bb8221a",
   "metadata": {},
   "outputs": [],
   "source": [
    "%%bash\n",
    "echo \"Alert Manager UI: http://$(cat ~/work/server-ip):$(kubectl get service --namespace ms-rest alertmanager -o=jsonpath='{ .spec.ports[0].nodePort }')\""
   ]
  },
  {
   "cell_type": "markdown",
   "id": "a7a0ce3e",
   "metadata": {},
   "source": [
    "### Alert Rules \n",
    "\n",
    "Damit der Alert Manager etwas zu tun bekommt, übergeben wir diesem ein paar Aufgaben:\n",
    "\n",
    "**1. HTTP GET-Rate ist ungewöhnlich hoch**\n",
    "\n",
    "Diese Regel löst aus, wenn die Anzahl der HTTP GET-Anfragen pro Sekunde über einem Schwellenwert liegt.\n",
    "(Anpassbar je nach Systemlast)\n",
    "\n",
    "Was macht diese Regel?\n",
    "* Berechnet die Rate der HTTP GET-Anfragen (rate(http_requests_total{method=\"GET\"}[5m])).\n",
    "* Löst aus, wenn der Wert über 100 pro Sekunde liegt.\n",
    "* for: 2m → Erst wenn das 2 Minuten lang anhält."
   ]
  },
  {
   "cell_type": "code",
   "execution_count": null,
   "id": "7eaee16c",
   "metadata": {},
   "outputs": [],
   "source": [
    "%%bash\n",
    "cat <<%EOF% | kubectl apply --namespace ms-rest -f -\n",
    "apiVersion: monitoring.coreos.com/v1\n",
    "kind: PrometheusRule\n",
    "metadata:\n",
    "  name: http-traffic\n",
    "  namespace: ms-rest\n",
    "spec:\n",
    "  groups:\n",
    "    - name: http.rules\n",
    "      rules:\n",
    "        - alert: HighHttpGetRate\n",
    "          expr: rate(http_requests_total{method=\"GET\"}[5m]) > 100\n",
    "          for: 2m\n",
    "          labels:\n",
    "            severity: warning\n",
    "          annotations:\n",
    "            summary: \"Hohe HTTP GET-Rate erkannt\"\n",
    "            description: \"Die Anzahl der HTTP GET-Anfragen liegt über 100 pro Sekunde in den letzten 5 Minuten.\"\n",
    "%EOF%\n"
   ]
  },
  {
   "cell_type": "markdown",
   "id": "07145d7c",
   "metadata": {},
   "source": [
    "**2. Speicherverbrauch pro Pod zu hoch**\n",
    "\n",
    "Diese Regel löst aus, wenn ein einzelner Pod mehr als 500 MB RAM verwendet.\n",
    "\n",
    "Was macht diese Regel?\n",
    "* Prüft, ob ein Pod mehr als 500 MB RAM nutzt (process_memory_usage_bytes > 500 * 1024 * 1024).\n",
    "* Löst aus, wenn das 2 Minuten lang anhält.\n"
   ]
  },
  {
   "cell_type": "code",
   "execution_count": null,
   "id": "6a15ae70",
   "metadata": {},
   "outputs": [],
   "source": [
    "%%bash\n",
    "cat <<%EOF% | kubectl apply --namespace ms-rest -f -\n",
    "apiVersion: monitoring.coreos.com/v1\n",
    "kind: PrometheusRule\n",
    "metadata:\n",
    "  name: memory-overflow\n",
    "  namespace: ms-rest\n",
    "spec:\n",
    "  groups:\n",
    "    - name: memory.rules\n",
    "      rules:\n",
    "        - alert: HighMemoryUsagePerPod\n",
    "          expr: process_memory_usage_bytes > 500 * 1024 * 1024\n",
    "          for: 2m\n",
    "          labels:\n",
    "            severity: critical\n",
    "          annotations:\n",
    "            summary: \"Hoher Speicherverbrauch erkannt\"\n",
    "            description: \"Ein Pod verbraucht mehr als 500 MB RAM.\"\n",
    "%EOF%"
   ]
  },
  {
   "cell_type": "markdown",
   "id": "a6936e9a",
   "metadata": {},
   "source": [
    "Ändert die 500 auf 5 in der memory.rules und beobachtet die Regeln in Prometheus und dem Alert-Manager"
   ]
  },
  {
   "cell_type": "markdown",
   "id": "4f5dbbcb",
   "metadata": {},
   "source": [
    "---\n",
    "\n",
    "### Aufräumen"
   ]
  },
  {
   "cell_type": "code",
   "execution_count": null,
   "id": "f913134c",
   "metadata": {},
   "outputs": [],
   "source": [
    "%%bash\n",
    "kubectl delete --namespace ms-rest -f https://gitlab.com/ch-mc-b/autoshop-ms/infra/kubernetes-templates/-/raw/main/3-0-0-deployment/catalog-deployment.yaml\n",
    "kubectl delete --namespace ms-rest -f https://gitlab.com/ch-mc-b/autoshop-ms/infra/kubernetes-templates/-/raw/main/3-0-0-deployment/customer-deployment.yaml\n",
    "kubectl delete --namespace ms-rest -f https://gitlab.com/ch-mc-b/autoshop-ms/infra/kubernetes-templates/-/raw/main/3-0-0-deployment/order-deployment.yaml\n",
    "kubectl delete --namespace ms-rest -f https://gitlab.com/ch-mc-b/autoshop-ms/infra/kubernetes-templates/-/raw/main/3-0-0-deployment/webshop-deployment.yaml\n",
    "kubectl delete --namespace ms-rest -f https://gitlab.com/ch-mc-b/autoshop-ms/infra/kubernetes-templates/-/raw/main/catalog-service.yaml\n",
    "kubectl delete --namespace ms-rest -f https://gitlab.com/ch-mc-b/autoshop-ms/infra/kubernetes-templates/-/raw/main/customer-service.yaml\n",
    "kubectl delete --namespace ms-rest -f https://gitlab.com/ch-mc-b/autoshop-ms/infra/kubernetes-templates/-/raw/main/order-service.yaml\n",
    "kubectl delete --namespace ms-rest -f https://gitlab.com/ch-mc-b/autoshop-ms/infra/kubernetes-templates/-/raw/main/webshop-service.yaml\n",
    "kubectl delete ns ms-rest"
   ]
  }
 ],
 "metadata": {
  "kernelspec": {
   "display_name": "Python 3 (ipykernel)",
   "language": "python",
   "name": "python3"
  },
  "language_info": {
   "codemirror_mode": {
    "name": "ipython",
    "version": 3
   },
   "file_extension": ".py",
   "mimetype": "text/x-python",
   "name": "python",
   "nbconvert_exporter": "python",
   "pygments_lexer": "ipython3",
   "version": "3.12.3"
  }
 },
 "nbformat": 4,
 "nbformat_minor": 5
}
