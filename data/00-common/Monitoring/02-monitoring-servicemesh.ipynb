{
 "cells": [
  {
   "cell_type": "markdown",
   "metadata": {},
   "source": [
    "Services überwachen\n",
    "----------\n",
    "\n",
    "Damit eigene (Micro)Services überwacht werden können, müssen diese Metrics Informationen liefern.\n",
    "\n",
    "Dazu müssen die (Micro)Services Metrik Informationen liefern, wie der [Auto Shop GmbH](https://gitlab.com/ch-mc-b/autoshop-ms/app/shop/-/tree/v3.0.0).\n",
    "\n",
    "- - -\n",
    "\n",
    "**Beispiel aus [order_service.py](https://gitlab.com/ch-mc-b/autoshop-ms/app/shop/-/tree/v3.0.0/order)**\n",
    "\n",
    "Metriken definieren\n",
    "\n",
    "    REQUEST_COUNT = Counter('http_requests_total', 'Total HTTP Requests', ['method', 'endpoint'])\n",
    "    REQUEST_LATENCY = Histogram('http_request_latency_seconds', 'HTTP request latency', ['method', 'endpoint'])\n",
    "    MEMORY_USAGE = Gauge('process_memory_usage_bytes', 'Memory usage of the process')\n",
    "    \n",
    "Metriken aktualisieren, z.B. bei jedem Aufruf der Webseite\n",
    "\n",
    "    @app.route('/order')\n",
    "    def order_page():\n",
    "    ...\n",
    "    REQUEST_COUNT.labels(method=\"GET\", endpoint=\"/order\").inc()\n",
    "    REQUEST_LATENCY.labels(method=\"GET\", endpoint=\"/order\").observe(time.time() - start_time)\n",
    "    update_memory_usage()\n",
    "    ..\n",
    "    \n",
    "Metriken Prometheus zur Verfügung stellen\n",
    "\n",
    "    @app.route('/metrics')\n",
    "    def metrics():\n",
    "        return generate_latest(), 200, {'Content-Type': CONTENT_TYPE_LATEST}\n"
   ]
  },
  {
   "cell_type": "code",
   "execution_count": null,
   "metadata": {},
   "outputs": [],
   "source": [
    "%%bash\n",
    "kubectl create namespace ms-rest\n",
    "kubectl apply --namespace ms-rest -f https://gitlab.com/ch-mc-b/autoshop-ms/infra/kubernetes-templates/-/raw/main/3-0-0-deployment/catalog-deployment.yaml\n",
    "kubectl apply --namespace ms-rest -f https://gitlab.com/ch-mc-b/autoshop-ms/infra/kubernetes-templates/-/raw/main/3-0-0-deployment/customer-deployment.yaml\n",
    "kubectl apply --namespace ms-rest -f https://gitlab.com/ch-mc-b/autoshop-ms/infra/kubernetes-templates/-/raw/main/3-0-0-deployment/order-deployment.yaml\n",
    "kubectl apply --namespace ms-rest -f https://gitlab.com/ch-mc-b/autoshop-ms/infra/kubernetes-templates/-/raw/main/3-0-0-deployment/webshop-deployment.yaml\n",
    "kubectl apply --namespace ms-rest -f https://gitlab.com/ch-mc-b/autoshop-ms/infra/kubernetes-templates/-/raw/main/3-0-0-deployment/catalog-service.yaml\n",
    "kubectl apply --namespace ms-rest -f https://gitlab.com/ch-mc-b/autoshop-ms/infra/kubernetes-templates/-/raw/main/3-0-0-deployment/customer-service.yaml\n",
    "kubectl apply --namespace ms-rest -f https://gitlab.com/ch-mc-b/autoshop-ms/infra/kubernetes-templates/-/raw/main/3-0-0-deployment/order-service.yaml\n",
    "kubectl apply --namespace ms-rest -f https://gitlab.com/ch-mc-b/autoshop-ms/infra/kubernetes-templates/-/raw/main/3-0-0-deployment/webshop-service.yaml\n",
    "\n",
    "echo \"http://\"$(cat ~/work/server-ip)\":\"$(kubectl get service --namespace ms-rest webshop -o=jsonpath='{ .spec.ports[0].nodePort }')/webshop"
   ]
  },
  {
   "cell_type": "markdown",
   "metadata": {},
   "source": [
    "Für die nächsten Befehle müssen alle Container gestartet sein:"
   ]
  },
  {
   "cell_type": "code",
   "execution_count": null,
   "metadata": {},
   "outputs": [],
   "source": [
    "! kubectl get all,servicemonitors --namespace ms-rest -l tier=microservice"
   ]
  },
  {
   "cell_type": "markdown",
   "metadata": {},
   "source": [
    "Zu Testzwecken zeigen wir die Metrik Daten des Order Microserivces an.\n",
    "\n",
    "Damit mehr Daten angezeigt werden (z.B. die Anzahl HTTP Requests), vorher das UI des Webshop bzw. von Order anwählen.\n"
   ]
  },
  {
   "cell_type": "code",
   "execution_count": null,
   "metadata": {},
   "outputs": [],
   "source": [
    "%%bash\n",
    "curl -s \"http://\"$(cat ~/work/server-ip)\":\"$(kubectl get service --namespace ms-rest webshop -o=jsonpath='{ .spec.ports[0].nodePort }')/webshop/order/metrics"
   ]
  },
  {
   "cell_type": "markdown",
   "metadata": {},
   "source": [
    "- - -\n",
    "### Prometheus \n",
    "\n",
    "Die erstellten Microservices können wir nun mit einer eigenen Prometheus Instanz überwachen.\n",
    "\n",
    "Dazu brauchen wir die entsprechenden Rechte:   "
   ]
  },
  {
   "cell_type": "code",
   "execution_count": null,
   "metadata": {},
   "outputs": [],
   "source": [
    "%%bash\n",
    "cat <<%EOF% | kubectl apply --namespace ms-rest -f -\n",
    "apiVersion: v1\n",
    "kind: ServiceAccount\n",
    "metadata:\n",
    "  name: microservice\n",
    "---\n",
    "apiVersion: rbac.authorization.k8s.io/v1\n",
    "kind: ClusterRole\n",
    "metadata:\n",
    "  name: microservice\n",
    "rules:\n",
    "- apiGroups: [\"\"]\n",
    "  resources:\n",
    "  - nodes\n",
    "  - services\n",
    "  - endpoints\n",
    "  - pods\n",
    "  verbs: [\"get\", \"list\", \"watch\"]\n",
    "- apiGroups: [\"\"]\n",
    "  resources:\n",
    "  - configmaps\n",
    "  verbs: [\"get\"]\n",
    "- nonResourceURLs: [\"/metrics\"]\n",
    "  verbs: [\"get\"]\n",
    "---\n",
    "apiVersion: rbac.authorization.k8s.io/v1\n",
    "kind: ClusterRoleBinding\n",
    "metadata:\n",
    "  name: microservice\n",
    "roleRef:\n",
    "  apiGroup: rbac.authorization.k8s.io\n",
    "  kind: ClusterRole\n",
    "  name: microservice\n",
    "subjects:\n",
    "- kind: ServiceAccount\n",
    "  name: microservice\n",
    "  namespace: ms-rest\n",
    "%EOF%\n"
   ]
  },
  {
   "cell_type": "markdown",
   "metadata": {},
   "source": [
    "und eine eigene Prometheus Instanz.\n"
   ]
  },
  {
   "cell_type": "code",
   "execution_count": null,
   "metadata": {},
   "outputs": [],
   "source": [
    "%%bash\n",
    "cat <<%EOF% | kubectl apply --namespace ms-rest -f -\n",
    "apiVersion: v1\n",
    "kind: Service\n",
    "metadata:\n",
    "  name: prometheus\n",
    "spec:\n",
    "  type: NodePort\n",
    "  ports:\n",
    "  - name: web\n",
    "    port: 9090\n",
    "    protocol: TCP\n",
    "    targetPort: web\n",
    "  selector:\n",
    "    prometheus: prometheus\n",
    "  type: NodePort\n",
    "---\n",
    "apiVersion: monitoring.coreos.com/v1\n",
    "kind: Prometheus\n",
    "metadata:\n",
    "  name: prometheus\n",
    "spec:\n",
    "  serviceAccountName: microservice\n",
    "  serviceMonitorSelector:\n",
    "    matchLabels:\n",
    "      tier: microservice\n",
    "  ruleSelector: {}  \n",
    "  ruleNamespaceSelector:\n",
    "    matchLabels:\n",
    "      kubernetes.io/metadata.name: ms-rest\n",
    "  resources:\n",
    "    requests:\n",
    "      memory: 400Mi\n",
    "  enableAdminAPI: true\n",
    "  alerting:\n",
    "    alertmanagers:\n",
    "      - namespace: ms-rest\n",
    "        name: alertmanager\n",
    "        port: web\n",
    "%EOF%\n"
   ]
  },
  {
   "cell_type": "markdown",
   "metadata": {},
   "source": [
    "### ServiceMonitor\n",
    "\n",
    "Zum Schluss, starten wir das Monitoring mittels `ServiceMonitor`.\n",
    "\n",
    "Welche Microservices überwacht werden sollen bestimmt der `selector` und welche Ports `endpoints` und `port:`.\n",
    "\n",
    "Die YAML Dateien der Services sind entsprechend anzupassen:\n",
    "\n",
    "    apiVersion: v1\n",
    "    kind: Service\n",
    "    metadata:\n",
    "      labels:\n",
    "        name: order\n",
    "        tier: microservice\n",
    "      name: order\n",
    "    spec:\n",
    "      ports:\n",
    "      - port: 8080\n",
    "        protocol: TCP\n",
    "        targetPort: 8080\n",
    "        name: web    \n",
    "      selector:\n",
    "        app: order"
   ]
  },
  {
   "cell_type": "code",
   "execution_count": null,
   "metadata": {},
   "outputs": [],
   "source": [
    "%%bash\n",
    "cat <<%EOF% | kubectl apply --namespace ms-rest -f -\n",
    "apiVersion: monitoring.coreos.com/v1\n",
    "kind: ServiceMonitor\n",
    "metadata:\n",
    "  name: microservice\n",
    "  labels:\n",
    "    tier: microservice\n",
    "spec:\n",
    "  selector:\n",
    "    matchLabels:\n",
    "      tier: microservice\n",
    "  endpoints:\n",
    "  - port: web\n",
    "    path: /metrics \n",
    "    interval: 30s  \n",
    "%EOF%\n"
   ]
  },
  {
   "cell_type": "markdown",
   "metadata": {},
   "source": [
    "---\n",
    "### Abfragen von Werten im Prometheus UI\n",
    "\n",
    "Im User Interface können wir die überwachten Targets und deren Status anschauen.\n",
    "\n",
    "Dazu ist als Query `up` einzugeben oder via Pulldown -> Status -> Targets die überwachten Microservices anzuzeigen.\n",
    "\n",
    "Ausserdem können folgende Werte ausgewertet werden:\n",
    "\n",
    "* http_requests_total{method=\"GET\"} - liefert Anzahl HTTP GET Aufrufe\n",
    "* process_memory_usage_bytes - den Speicherverbrauch pro Pod"
   ]
  },
  {
   "cell_type": "code",
   "execution_count": null,
   "metadata": {},
   "outputs": [],
   "source": [
    "%%bash\n",
    "echo \"Prometheus UI: http://$(cat ~/work/server-ip):$(kubectl get service --namespace ms-rest prometheus -o=jsonpath='{ .spec.ports[0].nodePort }')\""
   ]
  },
  {
   "cell_type": "code",
   "execution_count": null,
   "metadata": {},
   "outputs": [],
   "source": []
  },
  {
   "cell_type": "markdown",
   "metadata": {},
   "source": [
    "Weiter geht es mit dem [Alert Manager](03-alert-servicemesh.ipynb)"
   ]
  }
 ],
 "metadata": {
  "kernelspec": {
   "display_name": "Python 3 (ipykernel)",
   "language": "python",
   "name": "python3"
  },
  "language_info": {
   "codemirror_mode": {
    "name": "ipython",
    "version": 3
   },
   "file_extension": ".py",
   "mimetype": "text/x-python",
   "name": "python",
   "nbconvert_exporter": "python",
   "pygments_lexer": "ipython3",
   "version": "3.12.3"
  }
 },
 "nbformat": 4,
 "nbformat_minor": 2
}
