{
 "cells": [
  {
   "cell_type": "markdown",
   "metadata": {},
   "source": [
    "### Prometheus Installation\n",
    "\n",
    "Prometheus ist am einfachsten mittels [helm](https://helm.io) installierbar.\n"
   ]
  },
  {
   "cell_type": "code",
   "execution_count": null,
   "metadata": {},
   "outputs": [],
   "source": [
    "%%bash\n",
    "helm repo add prometheus-community https://prometheus-community.github.io/helm-charts\n",
    "helm upgrade --install monitoring prometheus-community/kube-prometheus-stack -n monitoring --namespace monitoring --create-namespace"
   ]
  },
  {
   "cell_type": "markdown",
   "metadata": {},
   "source": [
    "Die Ports der User Interfaces\n",
    "\n",
    "* Grafana (Service: prometheus-operator-grafana) \n",
    "* Prometheus (Service: prometheus-operator-prometheus)\n",
    "* Alertmanager (Service: prometheus-operator-alertmanager)\n",
    "\n",
    "sind nur innerhalb des Cluster zugänglich. Deshalb müssen wir diese zuerst freischalten bzw. gegen Aussen öffnen:"
   ]
  },
  {
   "cell_type": "code",
   "execution_count": null,
   "metadata": {},
   "outputs": [],
   "source": [
    "%%bash\n",
    "kubectl -n monitoring patch service monitoring-grafana                      -p '{\"spec\": {\"type\": \"NodePort\"}}'\n",
    "kubectl -n monitoring patch service monitoring-kube-prometheus-prometheus   -p '{\"spec\": {\"type\": \"NodePort\"}}'\n",
    "kubectl -n monitoring patch service monitoring-kube-prometheus-alertmanager -p '{\"spec\": {\"type\": \"NodePort\"}}'"
   ]
  },
  {
   "cell_type": "markdown",
   "metadata": {},
   "source": [
    "Sind Sie freigeschaltet, können wir Sie wie andere Services via Cluster-IP und Port erreichen:"
   ]
  },
  {
   "cell_type": "code",
   "execution_count": null,
   "metadata": {},
   "outputs": [],
   "source": [
    "%%bash\n",
    "echo \"Grafana UI     : \" http://$(cat ~/work/server-ip):$(kubectl -n monitoring get service/monitoring-grafana -o=jsonpath='{ .spec.ports[0].nodePort }')\n",
    "echo \"- User         : admin\"\n",
    "echo \"- Password     : $(kubectl --namespace monitoring get secrets monitoring-grafana -o jsonpath=\"{.data.admin-password}\" | base64 -d ; echo)\"\n",
    "echo \"Prometheus UI  : \" http://$(cat ~/work/server-ip):$(kubectl -n monitoring get service/monitoring-kube-prometheus-prometheus -o=jsonpath='{ .spec.ports[0].nodePort }')\n",
    "echo \"Alertmanager UI: \" http://$(cat ~/work/server-ip):$(kubectl -n monitoring get service/monitoring-kube-prometheus-alertmanager -o=jsonpath='{ .spec.ports[0].nodePort }')"
   ]
  },
  {
   "cell_type": "markdown",
   "metadata": {},
   "source": [
    "**Grafana UI** Auf der linken Seite kann zwischen einer Reihe von vorbereitenden Dashboards ausgewählt werden, z.B. Nodes.\n",
    "\n",
    "In der **Prometheus** Oberfläche kann mittels der Abfragesprache [PromQL](https://prometheus.io/docs/prometheus/latest/querying/basics/) gezielt Ressourcen ausgewählt werden, z.B. durch Query von `apiserver_storage_objects`.\n",
    "\n",
    "Der **Alertmanager** dient zum Verarbeiten von Ausnahmen, z.B. \n"
   ]
  },
  {
   "cell_type": "code",
   "execution_count": null,
   "metadata": {},
   "outputs": [],
   "source": [
    "%%bash\n",
    "kubectl apply -f - <<EOF \n",
    "apiVersion: monitoring.coreos.com/v1\n",
    "kind: PrometheusRule\n",
    "metadata:\n",
    "  name: node-high-cpu-usage\n",
    "  namespace: monitoring  # Passe das Namespace entsprechend deiner Umgebung an\n",
    "  labels:\n",
    "    prometheus: kube-prometheus\n",
    "    role: alert-rules\n",
    "spec:\n",
    "  groups:\n",
    "  - name: node-alerts\n",
    "    interval: 30s\n",
    "    rules:\n",
    "    - alert: HighCPUUsage\n",
    "      expr: 100 - (avg by(instance) (rate(node_cpu_seconds_total{mode=\"idle\"}[5m])) * 100) > 90\n",
    "      for: 5m\n",
    "      labels:\n",
    "        severity: critical\n",
    "      annotations:\n",
    "        summary: \"Hohe CPU-Auslastung auf {{ $labels.instance }}\"\n",
    "        description: \"Die CPU-Auslastung auf {{ $labels.instance }} liegt über 90 % für mehr als 5 Minuten.\"\n",
    "EOF\n"
   ]
  },
  {
   "cell_type": "markdown",
   "metadata": {},
   "source": [
    "**Erklärung:**\n",
    "\n",
    "1. **`apiVersion: monitoring.coreos.com/v1`** → Wird vom **Prometheus Operator** genutzt.\n",
    "2. **`kind: PrometheusRule`** → Definiert eine Prometheus-Alerting-Rule.\n",
    "3. **`metadata.name` & `metadata.namespace`** → Setzt den Namen und Namespace der Regel.\n",
    "4. **`labels`** → Definiert Labels für die Regel, z. B. für eine bestimmte Prometheus-Instanz.\n",
    "5. **`spec.groups`** → Gruppen für Regeln:\n",
    "   - **`name: node-alerts`** → Gruppe von Alerting-Regeln für Nodes.\n",
    "   - **`interval: 30s`** → Die Regeln werden alle 30 Sekunden geprüft.\n",
    "6. **`rules`** → Die eigentliche Regel:\n",
    "   - **`alert: HighCPUUsage`** → Name des Alarms.\n",
    "   - **`expr`** → PromQL-Expression zur Überprüfung der CPU-Last.\n",
    "   - **`for: 5m`** → Löst erst aus, wenn die Bedingung für 5 Minuten gilt.\n",
    "   - **`labels`** → Labels für den Alarm, z. B. `severity: critical`.\n",
    "   - **`annotations`** → Enthält eine Nachricht für den Alert."
   ]
  },
  {
   "cell_type": "markdown",
   "metadata": {},
   "source": [
    "- - -\n",
    "### Custom Ressourcen\n",
    "\n",
    "Der Prometheus [Operator](https://github.com/coreos/prometheus-operator/blob/master/README.md) stellt eine Reihe von [benutzerdefinierten Ressourcen (CRDs)](https://kubernetes.io/docs/tasks/access-kubernetes-api/extend-api-custom-resource-definitions/) für das Monitoring bereit.\n",
    "\n",
    "* **Prometheus**, für eine Prometheus Instanz.\n",
    "* **Alertmanager**, für eine Alertmanager Instanz\n",
    "* **ServiceMonitor**, für die Überwachung von Kubernetes-Diensten.\n",
    "* **PodMonitor**, für die Überwachung von Pods.\n"
   ]
  },
  {
   "cell_type": "code",
   "execution_count": null,
   "metadata": {},
   "outputs": [],
   "source": [
    "%%bash\n",
    "kubectl api-resources | grep monitoring\n",
    "echo \"---------------------------------\"\n",
    "kubectl explain servicemonitors                   "
   ]
  },
  {
   "cell_type": "code",
   "execution_count": null,
   "metadata": {},
   "outputs": [],
   "source": []
  }
 ],
 "metadata": {
  "kernelspec": {
   "display_name": "Python 3 (ipykernel)",
   "language": "python",
   "name": "python3"
  },
  "language_info": {
   "codemirror_mode": {
    "name": "ipython",
    "version": 3
   },
   "file_extension": ".py",
   "mimetype": "text/x-python",
   "name": "python",
   "nbconvert_exporter": "python",
   "pygments_lexer": "ipython3",
   "version": "3.12.3"
  }
 },
 "nbformat": 4,
 "nbformat_minor": 2
}
