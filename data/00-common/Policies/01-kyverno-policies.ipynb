{
 "cells": [
  {
   "cell_type": "markdown",
   "metadata": {},
   "source": [
    "## Kyverno\n",
    "\n",
    "![](https://kyverno.io/images/kyverno-architecture.png)^\n",
    "\n",
    "Quelle: https://kyverno.io/docs/introduction/how-kyverno-works/\n",
    "- - - \n",
    "\n",
    "Kyverno (griechisch für „regieren“) ist eine Cloud-native Policy-Engine. Sie wurde ursprünglich für Kubernetes entwickelt und kann nun auch ausserhalb von Kubernetes-Clustern als einheitliche Policy-Sprache eingesetzt werden.\n",
    "\n",
    "Mit Kyverno können Plattformingenieure die Validierung von Sicherheit, Compliance und Best Practices automatisieren und Anwendungsteams einen sicheren Self-Service bieten.\n",
    "\n",
    "Zu den zahlreichen Funktionen gehören unter anderem:\n",
    "\n",
    "* Richtlinien als YAML-basierte deklarative Kubernetes-Ressourcen, ohne dass Sie eine neue Sprache lernen müssen!\n",
    "* Durchsetzung von Richtlinien als Kubernetes-Zulassungscontroller, CLI-basierter Scanner und zur Laufzeit\n",
    "* Validieren, mutieren, generieren oder bereinigen (entfernen) Sie jede Kubernetes-Ressource\n",
    "* Überprüfen Sie Container-Images und Metadaten für die Sicherheit der Software-Lieferkette\n",
    "* Richtlinien für alle JSON-Nutzdaten, einschliesslich Terraform-Ressourcen, Cloud-Ressourcen und Serviceautorisierung\n",
    "* Richtlinienberichterstattung unter Verwendung des offenen Berichtsformats der CNCF Policy WG\n",
    "* flexibles Richtlinienausnahmemanagement\n",
    "* Werkzeuge für umfassende Unit- und E2E-Tests von Richtlinien\n",
    "* Verwaltung von Richtlinien als Coderessourcen mit vertrauten Tools wie `git` und `kustomize`\n",
    "\n"
   ]
  },
  {
   "cell_type": "markdown",
   "metadata": {},
   "source": [
    "Installieren Sie zunächst Kyverno"
   ]
  },
  {
   "cell_type": "code",
   "execution_count": null,
   "metadata": {},
   "outputs": [],
   "source": []
  },
  {
   "cell_type": "code",
   "execution_count": null,
   "metadata": {},
   "outputs": [],
   "source": [
    "%%bash\n",
    "helm repo add kyverno https://kyverno.github.io/kyverno/\n",
    "helm repo update\n",
    "helm install kyverno kyverno/kyverno -n kyverno --create-namespace"
   ]
  },
  {
   "cell_type": "markdown",
   "metadata": {},
   "source": [
    "Fügen Sie die unten stehende Richtlinie zu Ihrem Cluster hinzu. Sie enthält eine einzige Validierungsregel, die erfordert, dass alle Pods das teamLabel haben."
   ]
  },
  {
   "cell_type": "code",
   "execution_count": null,
   "metadata": {
    "vscode": {
     "languageId": "plaintext"
    }
   },
   "outputs": [],
   "source": [
    "%%bash\n",
    "kubectl create -f- << EOF\n",
    "apiVersion: kyverno.io/v1\n",
    "kind: ClusterPolicy\n",
    "metadata:\n",
    "  name: require-labels\n",
    "spec:\n",
    "  rules:\n",
    "  - name: check-team\n",
    "    match:\n",
    "      any:\n",
    "      - resources:\n",
    "          kinds:\n",
    "          - Pod\n",
    "    validate:\n",
    "      failureAction: Enforce\n",
    "      message: \"label 'team' is required\"\n",
    "      pattern:\n",
    "        metadata:\n",
    "          labels:\n",
    "            team: \"?*\"\n",
    "EOF\n"
   ]
  },
  {
   "cell_type": "markdown",
   "metadata": {},
   "source": [
    "Versuchen Sie, eine Bereitstellung ohne die erforderliche Bezeichnung zu erstellen."
   ]
  },
  {
   "cell_type": "code",
   "execution_count": null,
   "metadata": {
    "vscode": {
     "languageId": "plaintext"
    }
   },
   "outputs": [],
   "source": [
    "%%bash\n",
    "kubectl create deployment nginx --image=nginx || true\n"
   ]
  },
  {
   "cell_type": "markdown",
   "metadata": {},
   "source": [
    "Sie sollten einen Fehler sehen und das Deployment wurde nicht erstellt"
   ]
  },
  {
   "cell_type": "code",
   "execution_count": null,
   "metadata": {
    "vscode": {
     "languageId": "plaintext"
    }
   },
   "outputs": [],
   "source": [
    "%%bash\n",
    "kubectl get all"
   ]
  },
  {
   "cell_type": "markdown",
   "metadata": {},
   "source": [
    "Erstellen Sie nun einen Pod mit der erforderlichen Bezeichnung."
   ]
  },
  {
   "cell_type": "code",
   "execution_count": null,
   "metadata": {
    "vscode": {
     "languageId": "plaintext"
    }
   },
   "outputs": [],
   "source": [
    "%%bash\n",
    "kubectl run nginx --image nginx --labels team=backend\n",
    "kubectl get all"
   ]
  },
  {
   "cell_type": "markdown",
   "metadata": {},
   "source": [
    "Diese Pod-Konfiguration entspricht der Richtlinie und ist zulässig.\n",
    "\n",
    "- - -\n",
    "\n",
    "Nachdem der Pod nun existiert, warten Sie noch ein paar Sekunden und sehen Sie, welche weiteren Aktionen Kyverno ausgeführt hat. Führen Sie den folgenden Befehl aus, um den von Kyverno erstellten Richtlinienbericht abzurufen."
   ]
  },
  {
   "cell_type": "code",
   "execution_count": null,
   "metadata": {
    "vscode": {
     "languageId": "plaintext"
    }
   },
   "outputs": [],
   "source": [
    "%%bash\n",
    "kubectl get policyreport -o wide"
   ]
  },
  {
   "cell_type": "markdown",
   "metadata": {},
   "source": [
    "Und die Details dazu"
   ]
  },
  {
   "cell_type": "code",
   "execution_count": null,
   "metadata": {},
   "outputs": [],
   "source": [
    "%%bash\n",
    "kubectl describe policyreport"
   ]
  },
  {
   "cell_type": "markdown",
   "metadata": {},
   "source": [
    "Regel wieder löschen"
   ]
  },
  {
   "cell_type": "code",
   "execution_count": null,
   "metadata": {
    "vscode": {
     "languageId": "plaintext"
    }
   },
   "outputs": [],
   "source": [
    "%%bash\n",
    "kubectl delete clusterpolicy require-labels\n",
    "kubectl delete deployment nginx"
   ]
  },
  {
   "cell_type": "markdown",
   "metadata": {},
   "source": [
    "## Weitere Beispiele\n",
    "\n",
    "* [Mutationsressourcen](https://kyverno.io/docs/introduction/quick-start/#mutate-resources)"
   ]
  }
 ],
 "metadata": {
  "kernelspec": {
   "display_name": "Python 3 (ipykernel)",
   "language": "python",
   "name": "python3"
  },
  "language_info": {
   "codemirror_mode": {
    "name": "ipython",
    "version": 3
   },
   "file_extension": ".py",
   "mimetype": "text/x-python",
   "name": "python",
   "nbconvert_exporter": "python",
   "pygments_lexer": "ipython3",
   "version": "3.12.3"
  }
 },
 "nbformat": 4,
 "nbformat_minor": 2
}
