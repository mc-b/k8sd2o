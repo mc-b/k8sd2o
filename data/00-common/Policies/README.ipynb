{
 "cells": [
  {
   "cell_type": "markdown",
   "metadata": {},
   "source": [
    "## Policies\n",
    "\n",
    "Policies in Kubernetes spielen eine entscheidende Rolle bei der Sicherstellung von Sicherheit, Compliance und Governance innerhalb eines Clusters. \n",
    "\n",
    "Sie ermöglichen die Durchsetzung von Regeln für Ressourcenverwaltung, Netzwerksicherheit und Berechtigungen. \n",
    "\n",
    "Beispiele für Kubernetes-Policies sind\n",
    "* Network Policies (zur Steuerung des Datenverkehrs zwischen Pods)\n",
    "* Pod Security Policies (zur Einschränkung von Pod-Berechtigungen) \n",
    "* Admission Controller Policies (zur Validierung und Veränderung von Ressourcen beim Deployment). \n",
    "\n",
    "Moderne Kubernetes-Umgebungen nutzen oft Open Policy Agent (OPA) oder Kyverno, um flexible und erweiterbare Richtlinien für Cluster-Management und Sicherheit zu definieren.\n",
    "\n",
    "* [Kyverno](01-kyverno-policies.ipynb)\n",
    "* [Network Policy Editor](https://networkpolicy.io/)"
   ]
  }
 ],
 "metadata": {
  "language_info": {
   "name": "python"
  }
 },
 "nbformat": 4,
 "nbformat_minor": 2
}
