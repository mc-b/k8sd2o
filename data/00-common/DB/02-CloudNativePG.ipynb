{
 "cells": [
  {
   "cell_type": "markdown",
   "id": "7559b44a",
   "metadata": {},
   "source": [
    "## CloudNativePG (CNPG)\n",
    "\n",
    "![](https://cloudnative-pg.io/documentation/current/images/k8s-pg-architecture.png)\n",
    "\n",
    "Quelle: https://cloudnative-pg.io/documentation/current/architecture/\n",
    "\n",
    "- - -\n",
    "\n",
    "**CloudNativePG** ist ein Kubernetes-Operator, der das Management von **PostgreSQL-Datenbanken** in einem Kubernetes-Cluster automatisiert. Er ermöglicht **hochverfügbare, skalierbare und containerisierte PostgreSQL-Cluster**.\n",
    "\n",
    "### Architektur\n",
    "\n",
    "Dieser Cluster besteht aus:\n",
    "\n",
    "- **CNPG Operator** → Verwaltet den PostgreSQL-Cluster in Kubernetes.\n",
    "- **Datenbank-Cluster (`database-cluster`)**\n",
    "  - **Primary-Instanz (`database-cluster-1`)** → Die Haupt-Datenbankinstanz, auf die geschrieben wird.\n",
    "  - **Replica-Instanzen (`database-cluster-2`, `database-cluster-3`)** → Replikationen für Skalierung und Hochverfügbarkeit.\n",
    "- **Kubernetes Services**\n",
    "  - **`database-cluster-rw` (Read/Write Service)** → Für den Zugriff auf die **Primary-Instanz**.\n",
    "  - **`database-cluster-ro` (Read-Only Service)** → Für **nur Lesezugriffe** auf die Replicas.\n",
    "\n",
    "- - -\n",
    "\n",
    "Installation mittels `helm`. Alle anderen Varianten waren nicht erfolgreich."
   ]
  },
  {
   "cell_type": "code",
   "execution_count": null,
   "id": "ae85a85f",
   "metadata": {},
   "outputs": [],
   "source": [
    "%%bash\n",
    "helm repo add cnpg https://cloudnative-pg.github.io/charts\n",
    "helm upgrade --install cnpg \\\n",
    "  --namespace cnpg-system \\\n",
    "  --create-namespace \\\n",
    "  cnpg/cloudnative-pg"
   ]
  },
  {
   "cell_type": "markdown",
   "id": "dad5ab30",
   "metadata": {},
   "source": [
    "Helm chart to install a CloudNativePG database cluster."
   ]
  },
  {
   "cell_type": "code",
   "execution_count": null,
   "id": "8adbbf94",
   "metadata": {},
   "outputs": [],
   "source": [
    "%%bash\n",
    "helm repo add cnpg https://cloudnative-pg.github.io/charts\n",
    "helm upgrade --install database \\\n",
    "  --namespace database \\\n",
    "  --create-namespace \\\n",
    "  cnpg/cluster"
   ]
  },
  {
   "cell_type": "markdown",
   "id": "151a4adc",
   "metadata": {},
   "source": [
    "Zusätzlich installieren wir das PostgreSQL CLI"
   ]
  },
  {
   "cell_type": "code",
   "execution_count": null,
   "id": "18deff9b",
   "metadata": {},
   "outputs": [],
   "source": [
    "%%bash\n",
    "sudo apt-get update && sudo apt-get install postgresql-client -y"
   ]
  },
  {
   "cell_type": "markdown",
   "id": "50d02a87",
   "metadata": {},
   "source": [
    "Wie üblich öffnen wir den Port, damit wir einfacher auf die Datenbank zugreifen können:"
   ]
  },
  {
   "cell_type": "code",
   "execution_count": null,
   "id": "9cec7902",
   "metadata": {},
   "outputs": [],
   "source": [
    "%%bash\n",
    "kubectl patch svc database-cluster-rw -n database -p '{\"spec\":{\"type\":\"NodePort\"}}'\n",
    "echo \"postgresql://\"$(cat ~/work/server-ip)\":$(kubectl get svc database-cluster-rw -n database -o=jsonpath='{.spec.ports[0].nodePort}')/\"\n"
   ]
  },
  {
   "cell_type": "markdown",
   "id": "a294313d",
   "metadata": {},
   "source": [
    "Jetzt gibt es verschiedene Möglichkeiten sich mit postgreSQL zu verbinden:\n",
    "    \n",
    "Ohne Password mit pgsql CLI im Container\n",
    "\n",
    "    kubectl exec -it database-cluster-1 -n database -- psql -U postgres\n",
    "    \n",
    "Mit Password     "
   ]
  },
  {
   "cell_type": "code",
   "execution_count": null,
   "id": "88694577",
   "metadata": {},
   "outputs": [],
   "source": [
    "%%bash\n",
    "echo \"ssh -i ~/.ssh/lerncloud ubuntu@$(cat ~/work/server-ip)\"\n",
    "echo psql -h $(cat ~/work/server-ip) -p $(kubectl get svc database-cluster-rw -n database -o=jsonpath='{.spec.ports[0].nodePort}') -U postgres"
   ]
  },
  {
   "cell_type": "markdown",
   "id": "0f79e95f",
   "metadata": {},
   "source": [
    "### Part 4: Monitor clusters with Prometheus and Grafana\n",
    "\n",
    "* [Prometheus and Grafana](https://github.com/cloudnative-pg/cloudnative-pg/blob/main/docs/src/quickstart.md#part-4-monitor-clusters-with-prometheus-and-grafana)\n",
    "* [Bootstrap](https://github.com/cloudnative-pg/cloudnative-pg/blob/main/docs/src/bootstrap.md)"
   ]
  },
  {
   "cell_type": "code",
   "execution_count": null,
   "id": "51523dc6",
   "metadata": {},
   "outputs": [],
   "source": []
  }
 ],
 "metadata": {
  "kernelspec": {
   "display_name": "Python 3 (ipykernel)",
   "language": "python",
   "name": "python3"
  },
  "language_info": {
   "codemirror_mode": {
    "name": "ipython",
    "version": 3
   },
   "file_extension": ".py",
   "mimetype": "text/x-python",
   "name": "python",
   "nbconvert_exporter": "python",
   "pygments_lexer": "ipython3",
   "version": "3.12.3"
  }
 },
 "nbformat": 4,
 "nbformat_minor": 5
}
