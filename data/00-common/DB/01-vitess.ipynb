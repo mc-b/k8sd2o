{
 "cells": [
  {
   "cell_type": "markdown",
   "id": "a8740645",
   "metadata": {},
   "source": [
    "## Vitess\n",
    "\n",
    "![](https://vitess.io/img/logos/vitess-stacked.png)\n",
    "\n",
    "Quelle: https://vitess.io/\n",
    "\n",
    "- - -\n",
    "\n",
    "Vitess ist eine Datenbanklösung für die Bereitstellung, Skalierung und Verwaltung großer Cluster von Open-Source-Datenbankinstanzen. Sie unterstützt aktuell MySQL und Percona Server für MySQL. Sie ist so konzipiert, dass sie in öffentlichen oder privaten Cloud-Architekturen genauso effizient läuft wie auf dedizierter Hardware. Sie kombiniert und erweitert viele wichtige SQL-Funktionen mit der Skalierbarkeit einer NoSQL-Datenbank. \n",
    "\n",
    "Vitess kann Sie bei folgenden Problemen unterstützen:\n",
    "* Skalieren Sie eine SQL-Datenbank, indem Sie sie in Sharding aufteilen und gleichzeitig die Anwendungsänderungen auf ein Minimum beschränken.\n",
    "* Migration von Bare-Metal oder VMs in eine private oder öffentliche Cloud.\n",
    "* Bereitstellen und Verwalten einer großen Anzahl von SQL-Datenbankinstanzen.\n",
    "\n",
    "Vitess enthält kompatible JDBC- und Go-Datenbanktreiber mit nativem Abfrageprotokoll. Darüber hinaus implementiert es das MySQL-Serverprotokoll, das mit praktisch jeder anderen Sprache kompatibel ist.\n",
    "\n",
    "Vitess hat über fünf Jahre lang den gesamten YouTube-Datenbankverkehr abgewickelt. Viele Unternehmen nutzen Vitess mittlerweile für ihre Produktionsanforderungen.\n",
    "\n",
    "Quelle: https://vitess.io/docs/21.0/overview/whatisvitess/\n",
    "- - -\n",
    "\n",
    "Zuerst holen wir uns die vitess Distribution und stellen sie lokal im Verzeichnis `/usr/local/vitess` zur Verfügung.\n"
   ]
  },
  {
   "cell_type": "code",
   "execution_count": null,
   "id": "aa235abd",
   "metadata": {},
   "outputs": [],
   "source": [
    "%%bash\n",
    "version=\"v21.0\"\n",
    "url=\"$(curl -s https://api.github.com/repos/vitessio/vitess/releases | jq --arg version \"${version}\" -r '[.[] | select(.tag_name | contains($version))] | sort_by(.created_at) | reverse | .[0:1] | .[] | .assets[] | select(.content_type | contains(\"application/gzip\")) | .browser_download_url')\"\n",
    "file=\"${url##*/}\"\n",
    "curl -LO \"${url}\"\n",
    "\n",
    "tar -xzf ${file}\n",
    "cd ${file/.tar.gz/}\n",
    "sudo mkdir -p /usr/local/vitess\n",
    "sudo cp -r * /usr/local/vitess/"
   ]
  },
  {
   "cell_type": "markdown",
   "id": "48205e8e",
   "metadata": {},
   "source": [
    "Von Mysql brauchen das CLI `mysql`"
   ]
  },
  {
   "cell_type": "code",
   "execution_count": null,
   "id": "57c6f95b",
   "metadata": {},
   "outputs": [],
   "source": [
    "%%bash\n",
    "sudo apt-get install -y mysql-client"
   ]
  },
  {
   "cell_type": "markdown",
   "id": "0607b308",
   "metadata": {},
   "source": [
    "Dann folgt die Installation des vitess Operators"
   ]
  },
  {
   "cell_type": "code",
   "execution_count": null,
   "id": "9cf3bce1",
   "metadata": {},
   "outputs": [],
   "source": [
    "%%bash\n",
    "cd /usr/local/vitess/examples/operator\n",
    "kubectl apply -f operator.yaml"
   ]
  },
  {
   "cell_type": "markdown",
   "id": "74228116",
   "metadata": {},
   "source": [
    "Im Installations-Verzeichnis `/usr/local/vitess/` finden Sie eine Gruppe von YAML-Dateien. \n",
    "\n",
    "Die erste Ziffer jedes Dateinamens gibt die Phase des Beispiels an. \n",
    "\n",
    "Die nächsten beiden Ziffern geben die Reihenfolge an, in der sie ausgeführt werden. Beispielsweise `101_initial_cluster.yaml`  die erste Datei der ersten Phase. "
   ]
  },
  {
   "cell_type": "code",
   "execution_count": null,
   "id": "c8916e26",
   "metadata": {},
   "outputs": [],
   "source": [
    "%%bash\n",
    "ls -l /usr/local/vitess/examples/operator"
   ]
  },
  {
   "cell_type": "markdown",
   "id": "c3b173f9",
   "metadata": {},
   "source": [
    "Wir bauen uns einen ersten Example Cluster"
   ]
  },
  {
   "cell_type": "code",
   "execution_count": null,
   "id": "477a2313",
   "metadata": {},
   "outputs": [],
   "source": [
    "%%bash\n",
    "cd /usr/local/vitess/examples/operator\n",
    "kubectl apply -f 101_initial_cluster.yaml\n",
    "kubectl get pods"
   ]
  },
  {
   "cell_type": "markdown",
   "id": "3162775c",
   "metadata": {},
   "source": [
    "Wir machen die Ports der wichtigsten Services gehen aussen verfügbar"
   ]
  },
  {
   "cell_type": "code",
   "execution_count": null,
   "id": "13632353",
   "metadata": {},
   "outputs": [],
   "source": [
    "%%bash\n",
    "export VTCTLD_SERVICE=$(kubectl get service --selector=\"planetscale.com/component=vtctld\" -o name | head -n1)\n",
    "kubectl patch \"$VTCTLD_SERVICE\" --type='merge' -p '{\n",
    "\"spec\": {\n",
    "  \"type\": \"NodePort\"\n",
    "}\n",
    "}'\n",
    "export VTGATE_SERVICE=$(kubectl get service --selector='planetscale.com/component=vtgate,!planetscale.com/cell' -o name | head -n1)\n",
    "kubectl patch \"$VTGATE_SERVICE\" --type='merge' -p '{\n",
    "\"spec\": {\n",
    "  \"type\": \"NodePort\"\n",
    "}\n",
    "}'\n",
    "export VTADMIN_SERVICE=$(kubectl get service --selector=\"planetscale.com/component=vtadmin\" -o name | head -n1)\n",
    "kubectl patch \"$VTADMIN_SERVICE\" --type='merge' -p '{\n",
    "\"spec\": {\n",
    "  \"type\": \"NodePort\"\n",
    "}\n",
    "}'\n",
    "\n",
    "# Abrufen der Server-IP \n",
    "SERVER_IP=$(cat ~/work/server-ip)\n",
    "\n",
    "# Funktion zum Extrahieren der zugewiesenen NodePorts\n",
    "get_node_ports() {\n",
    "  kubectl get \"$1\" -o jsonpath='{range .spec.ports[*]}{.name}{\" \"}{.nodePort}{\"\\n\"}{end}'\n",
    "}\n",
    "\n",
    "get_node_ports \"$VTCTLD_SERVICE\" | while read name port; do\n",
    "  echo \"http://$SERVER_IP:$port \"$VTCTLD_SERVICE\" ($name)\"\n",
    "done\n",
    "echo \"\"\n",
    "\n",
    "get_node_ports \"$VTGATE_SERVICE\" | while read name port; do\n",
    "  echo \"http://$SERVER_IP:$port \"$VTGATE_SERVICE\" ($name)\"\n",
    "done\n",
    "echo \"\"\n",
    "\n",
    "get_node_ports \"$VTADMIN_SERVICE\" | while read name port; do\n",
    "  echo \"http://$SERVER_IP:$port \"$VTADMIN_SERVICE\" ($name)\"\n",
    "done\n",
    "echo \"\""
   ]
  },
  {
   "cell_type": "markdown",
   "id": "f4f9b46a",
   "metadata": {},
   "source": [
    "### Create Schema \n",
    "Load our initial schema:"
   ]
  },
  {
   "cell_type": "code",
   "execution_count": null,
   "id": "12699552",
   "metadata": {},
   "outputs": [],
   "source": [
    "%%bash\n",
    "export VTCTLD_SERVICE=$(kubectl get service --selector=\"planetscale.com/component=vtctld\" -o name | head -n1)\n",
    "export VTCTLD_PORT=$(kubectl get $VTCTLD_SERVICE -o jsonpath='{range .spec.ports[1]}{.nodePort}{\"\\n\"}{end}')\n",
    "\n",
    "/usr/local/vitess/bin/vtctldclient ApplySchema --sql-file=\"/usr/local/vitess/examples/operator/create_commerce_schema.sql\" \\\n",
    "    commerce --server=localhost:$VTCTLD_PORT\n",
    "\n",
    "/usr/local/vitess/bin/vtctldclient ApplyVSchema \\\n",
    "    --vschema-file=\"/usr/local/vitess/examples/operator/vschema_commerce_initial.json\" commerce \\\n",
    "    --server=localhost:$VTCTLD_PORT\n"
   ]
  },
  {
   "cell_type": "markdown",
   "id": "5ea1805d",
   "metadata": {},
   "source": [
    "Wir schreiben ein wenig Daten:"
   ]
  },
  {
   "cell_type": "code",
   "execution_count": null,
   "id": "2e6774ea",
   "metadata": {},
   "outputs": [],
   "source": [
    "%%bash\n",
    "cat <<EOF >insert_data.sql\n",
    "USE commerce;\n",
    "\n",
    "-- Produkt-Tabelle mit zufälligen Daten füllen\n",
    "INSERT INTO product (sku, description, price) VALUES\n",
    "  (UUID(), 'Laptop', 120000),\n",
    "  (UUID(), 'Smartphone', 80000),\n",
    "  (UUID(), 'Tablet', 50000),\n",
    "  (UUID(), 'Monitor', 30000),\n",
    "  (UUID(), 'Headphones', 15000);\n",
    "\n",
    "INSERT INTO customer (email) VALUES\n",
    "  (UUID()),\n",
    "  (UUID()),\n",
    "  (UUID()),\n",
    "  (UUID()),\n",
    "  (UUID());\n",
    "\n",
    "-- Bestellungen mit zufälligen Kunden und Produkten füllen\n",
    "INSERT INTO corder (customer_id, sku, price)\n",
    "SELECT \n",
    "  (SELECT customer_id FROM customer ORDER BY RAND() LIMIT 1),\n",
    "  (SELECT sku FROM product ORDER BY RAND() LIMIT 1),\n",
    "  (SELECT price FROM product ORDER BY RAND() LIMIT 1)\n",
    "FROM (SELECT 1 UNION SELECT 2 UNION SELECT 3 UNION SELECT 4 UNION SELECT 5) t;\n",
    "EOF\n"
   ]
  },
  {
   "cell_type": "code",
   "execution_count": null,
   "id": "a1fffbbe",
   "metadata": {},
   "outputs": [],
   "source": [
    "%%bash\n",
    "export VTGATE_SERVICE=$(kubectl get service --selector='planetscale.com/component=vtgate,!planetscale.com/cell' -o name | head -n1)\n",
    "export VTGATE_PORT=$(kubectl get $VTGATE_SERVICE -o jsonpath='{range .spec.ports[2]}{.nodePort}{\"\\n\"}{end}')\n",
    "\n",
    "mysql -h 127.0.0.1 -P $VTGATE_PORT -u user -e \"show databases;\"\n",
    "mysql -h 127.0.0.1 -P $VTGATE_PORT -u user <insert_data.sql\n",
    "mysql -h 127.0.0.1 -P $VTGATE_PORT -u user -e 'use commerce; select * from product; select * from customer'\n"
   ]
  },
  {
   "cell_type": "markdown",
   "id": "576ee9be",
   "metadata": {},
   "source": [
    "Mittels MySQL CLI verbinden.\n",
    "\n",
    "Dazu zuerst in die VM einloggen"
   ]
  },
  {
   "cell_type": "code",
   "execution_count": null,
   "id": "873db625",
   "metadata": {},
   "outputs": [],
   "source": [
    "%%bash\n",
    "export VTGATE_SERVICE=$(kubectl get service --selector='planetscale.com/component=vtgate,!planetscale.com/cell' -o name | head -n1)\n",
    "export VTGATE_PORT=$(kubectl get $VTGATE_SERVICE -o jsonpath='{range .spec.ports[2]}{.nodePort}{\"\\n\"}{end}')\n",
    "\n",
    "echo \"ssh -i ~/.ssh/lerncloud ubuntu@$(cat ~/work/server-ip)\"\n",
    "echo \"mysql -h 127.0.0.1 -P $VTGATE_PORT -u user\""
   ]
  },
  {
   "cell_type": "markdown",
   "id": "1f01a951",
   "metadata": {},
   "source": [
    "Weiter geht es mit [Move Tables](https://vitess.io/docs/21.0/user-guides/migration/move-tables/)"
   ]
  },
  {
   "cell_type": "markdown",
   "id": "233ba672",
   "metadata": {},
   "source": [
    "### Aufräumen\n"
   ]
  },
  {
   "cell_type": "code",
   "execution_count": null,
   "id": "ca9e8ee0",
   "metadata": {},
   "outputs": [],
   "source": [
    "%%bash\n",
    "cd /usr/local/vitess/examples/operator\n",
    "kubectl delete -f 101_initial_cluster.yaml\n",
    "kubectl delete -f operator.yaml"
   ]
  },
  {
   "cell_type": "code",
   "execution_count": null,
   "id": "a4a75d63",
   "metadata": {},
   "outputs": [],
   "source": []
  }
 ],
 "metadata": {
  "kernelspec": {
   "display_name": "Python 3 (ipykernel)",
   "language": "python",
   "name": "python3"
  },
  "language_info": {
   "codemirror_mode": {
    "name": "ipython",
    "version": 3
   },
   "file_extension": ".py",
   "mimetype": "text/x-python",
   "name": "python",
   "nbconvert_exporter": "python",
   "pygments_lexer": "ipython3",
   "version": "3.12.3"
  }
 },
 "nbformat": 4,
 "nbformat_minor": 5
}
