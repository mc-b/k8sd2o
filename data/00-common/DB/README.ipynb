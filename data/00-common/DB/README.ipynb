{
 "cells": [
  {
   "cell_type": "markdown",
   "id": "25933eef",
   "metadata": {},
   "source": [
    "## Datenbanken\n",
    "\n",
    "- - -\n",
    "\n",
    "* [Vitess (MySQL)](01-vitess.ipynb)\n",
    "* [CloudNativePG (CNPG - PostgreSQL)](02-CloudNativePG.ipynb)\n",    
    "\n"
   ]
  },
  {
   "cell_type": "code",
   "execution_count": null,
   "id": "599e989f",
   "metadata": {},
   "outputs": [],
   "source": []
  }
 ],
 "metadata": {
  "kernelspec": {
   "display_name": "Python 3 (ipykernel)",
   "language": "python",
   "name": "python3"
  },
  "language_info": {
   "codemirror_mode": {
    "name": "ipython",
    "version": 3
   },
   "file_extension": ".py",
   "mimetype": "text/x-python",
   "name": "python",
   "nbconvert_exporter": "python",
   "pygments_lexer": "ipython3",
   "version": "3.12.3"
  }
 },
 "nbformat": 4,
 "nbformat_minor": 5
}
