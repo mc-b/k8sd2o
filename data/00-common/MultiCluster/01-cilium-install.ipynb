{
 "cells": [
  {
   "cell_type": "markdown",
   "id": "31680cf1",
   "metadata": {},
   "source": [
    "# Cilium\n",
    "\n",
    "Cilium ist eine leistungsfähige und moderne Networking- und Security-Lösung für Kubernetes (K8s), die eBPF (Extended Berkeley Packet Filter) nutzt, um Netzwerk- und Sicherheitsrichtlinien effizient durchzusetzen. Es ersetzt herkömmliche Kubernetes-Netzwerk-Plugins (CNI) und bietet erweiterte Funktionen für Observability, Service Mesh und Security.\n",
    "\n",
    "### Hauptmerkmale von Cilium:\n",
    "\n",
    "1. **eBPF-basierte Netzwerksteuerung:**  \n",
    "   - Direkte Manipulation von Netzwerkpaketen im Linux-Kernel für hohe Leistung und niedrige Latenz.\n",
    "   - Effiziente und flexible Paketverarbeitung ohne iptables.\n",
    "\n",
    "2. **Sicherheitsrichtlinien & Netzwerksegmentierung:**  \n",
    "   - Anwendung von Identity-basierten (statt IP-basierten) Netzwerk-Sicherheitsrichtlinien.\n",
    "   - Erlaubt Zero-Trust-Netzwerke und Microsegmentation in Kubernetes.\n",
    "\n",
    "3. **Service Mesh ohne Sidecars:**  \n",
    "   - Cilium kann als Alternative zu herkömmlichen Service-Mesh-Lösungen wie Istio dienen.\n",
    "   - Vermeidet die Notwendigkeit, Sidecar-Proxies in jedem Pod zu betreiben.\n",
    "\n",
    "4. **Observability & Netzwerk-Monitoring:**  \n",
    "   - Bietet detaillierte Einblicke in den Kubernetes-Netzwerkverkehr mit eBPF-Tracing.\n",
    "   - Ermöglicht Echtzeit-Analyse des Datenverkehrs und Fehlersuche.\n",
    "\n",
    "5. **Multi-Cluster-Unterstützung:**  \n",
    "   - Erlaubt Netzwerkverbindungen über verschiedene Kubernetes-Cluster hinweg.\n",
    "   - Unterstützt Cluster Mesh für nahtlose Kommunikation.\n",
    "\n",
    "6. **Hohe Performance & Skalierbarkeit:**  \n",
    "   - Bessere Skalierbarkeit als herkömmliche Lösungen wie Calico oder Flannel.\n",
    "   - Optimiert für moderne Cloud-native Anwendungen.\n",
    "\n",
    "### Einsatzbereiche von Cilium:\n",
    "\n",
    "- **Cloud-native Kubernetes-Netzwerke**: Sicheres und schnelles Networking für Microservices.\n",
    "- **Security & Compliance**: Durchsetzung von Sicherheitsrichtlinien auf Netzwerkebene.\n",
    "- **Service Mesh Alternative**: Vereinfachung von Service-Kommunikation ohne klassische Sidecars.\n",
    "- **Observability & Debugging**: Überwachung und Analyse des Netzwerkverkehrs mit eBPF.\n",
    "\n",
    "Cilium ist eine beliebte Wahl für Unternehmen, die Kubernetes-Cluster mit hoher Sicherheit, Skalierbarkeit und Performance betreiben möchten.\n",
    "\n",
    "- - -\n",
    "\n",
    "Zuerst erstellen wir einen Kubernetes Cluster mit `kind`"
   ]
  },
  {
   "cell_type": "code",
   "execution_count": null,
   "id": "f27aae61",
   "metadata": {},
   "outputs": [],
   "source": [
    "%%bash\n",
    "cat <<EOF >kind-config.yaml\n",
    "kind: Cluster\n",
    "apiVersion: kind.x-k8s.io/v1alpha4\n",
    "nodes:\n",
    "  - role: control-plane\n",
    "  - role: worker\n",
    "  - role: worker\n",
    "networking:\n",
    "  disableDefaultCNI: true\n",
    "EOF\n",
    "\n",
    "kind create cluster --config=kind-config.yaml --name cilium"
   ]
  },
  {
   "cell_type": "markdown",
   "id": "45bc7a4c",
   "metadata": {},
   "source": [
    "Dann Installieren wir das Cilium CLI"
   ]
  },
  {
   "cell_type": "code",
   "execution_count": null,
   "id": "2f21898d",
   "metadata": {},
   "outputs": [],
   "source": [
    "%%bash\n",
    "CILIUM_CLI_VERSION=$(curl -s https://raw.githubusercontent.com/cilium/cilium-cli/main/stable.txt)\n",
    "CLI_ARCH=amd64\n",
    "if [ \"$(uname -m)\" = \"aarch64\" ]; then CLI_ARCH=arm64; fi\n",
    "curl -L --fail --remote-name-all https://github.com/cilium/cilium-cli/releases/download/${CILIUM_CLI_VERSION}/cilium-linux-${CLI_ARCH}.tar.gz{,.sha256sum}\n",
    "sha256sum --check cilium-linux-${CLI_ARCH}.tar.gz.sha256sum\n",
    "sudo tar xzvfC cilium-linux-${CLI_ARCH}.tar.gz /usr/local/bin\n",
    "rm cilium-linux-${CLI_ARCH}.tar.gz{,.sha256sum}\n"
   ]
  },
  {
   "cell_type": "markdown",
   "id": "d2a2341c",
   "metadata": {},
   "source": [
    "Dann Cilium "
   ]
  },
  {
   "cell_type": "code",
   "execution_count": null,
   "id": "1a8075e7",
   "metadata": {},
   "outputs": [],
   "source": [
    "%%bash\n",
    "cilium install\n",
    "cilium status --wait"
   ]
  },
  {
   "cell_type": "markdown",
   "id": "307ccb81",
   "metadata": {},
   "source": [
    "Und das Cilium UI (hubble)"
   ]
  },
  {
   "cell_type": "code",
   "execution_count": null,
   "id": "4bcb906a",
   "metadata": {},
   "outputs": [],
   "source": [
    "%%bash\n",
    "cilium hubble enable --ui"
   ]
  },
  {
   "cell_type": "markdown",
   "id": "4cae82c3",
   "metadata": {},
   "source": [
    "Port forward für UI\n",
    "* Verbinden mit der VM\n",
    "* Port forward nach \"0.0.0.0\" einrichten (weil kind Cluster in Docker Container läuft)\n",
    "* URL im Browser öffnen"
   ]
  },
  {
   "cell_type": "code",
   "execution_count": null,
   "id": "26dd0a89",
   "metadata": {},
   "outputs": [],
   "source": [
    "%%bash\n",
    "echo \"ssh -i ~/.ssh/lerncloud ubuntu@$(cat ~/work/server-ip)\"\n",
    "echo \"kubectl port-forward -n kube-system svc/hubble-ui --address 0.0.0.0 12000:80 &\"\n",
    "echo \"Hubble UI: http://$(cat ~/work/server-ip):12000\""
   ]
  },
  {
   "cell_type": "markdown",
   "id": "b8ac339e",
   "metadata": {},
   "source": [
    "**Optional** Validieren wie die Installation"
   ]
  },
  {
   "cell_type": "code",
   "execution_count": null,
   "id": "3d6d093f",
   "metadata": {},
   "outputs": [],
   "source": [
    "%%bash\n",
    "cilium connectivity test --request-timeout 30s --connect-timeout 10s"
   ]
  },
  {
   "cell_type": "markdown",
   "id": "48ab2426",
   "metadata": {},
   "source": [
    "Und Erkunden die Ressourcen des Clusters"
   ]
  },
  {
   "cell_type": "code",
   "execution_count": null,
   "id": "2248b469",
   "metadata": {},
   "outputs": [],
   "source": [
    "%%bash\n",
    "kubectl config get-contexts\n",
    "kubectl get nodes\n",
    "kubectl get daemonsets --all-namespaces\n",
    "kubectl get deployments --all-namespaces \n",
    "kubectl get services  --all-namespaces "
   ]
  },
  {
   "cell_type": "markdown",
   "id": "ed1d4589",
   "metadata": {},
   "source": [
    "### Weitere Hands-on\n",
    "\n",
    "* [Hands-on: Overlay Netzwerk](02-overlay-network.ipynb)\n",
    "* [Einfacher Service-Mesh](../C-Traffic%20Management/01-service-mesh.ipynb)\n",
    "* [Service-Mesh - Big Ball of Mud](../C-Traffic%20Management/01-service-mesh-BBuM.ipynb)\n",
    "\n",
    "**Hinweis**\n",
    "\n",
    "Die angezeigten URLs zum Öffnen der Webshop-UIs und für den Lasttest funktionieren nicht, da der `kind`-Cluster in Docker-Containern läuft.  \n",
    "\n",
    "Durch Port-Forwarding können wir die UIs dennoch zugänglich machen.  \n",
    "\n",
    "Sobald wir etwas Traffic erzeugen (z. B. durch mehrmaliges Drücken von `Ctrl + F5` im Browser), werden die Verbindungen im Hubble UI sichtbar – ähnlich wie in Kiali oder Zipkin.  \n"
   ]
  },
  {
   "cell_type": "code",
   "execution_count": null,
   "id": "e5773a4b",
   "metadata": {},
   "outputs": [],
   "source": [
    "%%bash\n",
    "echo \"kubectl port-forward -n ms-rest service/webshop --address 0.0.0.0 12001:8080 &\"\n",
    "echo \"kubectl port-forward -n ms-bbum service/webshop --address 0.0.0.0 12002:8080 &\"\n",
    "\n",
    "echo \"Webshop UI (ms-rest): http://$(cat ~/work/server-ip):12001/webshop\"\n",
    "echo \"Webshop UI (ms-bbum): http://$(cat ~/work/server-ip):12002/webshop\""
   ]
  },
  {
   "cell_type": "markdown",
   "id": "0010e4a0",
   "metadata": {},
   "source": [
    "- - -\n",
    "\n",
    "### Aufräumen\n"
   ]
  },
  {
   "cell_type": "code",
   "execution_count": null,
   "id": "09f47146",
   "metadata": {},
   "outputs": [],
   "source": [
    "%%bash\n",
    "kind delete cluster --name cilium\n",
    "kubectl config use-context microk8s"
   ]
  },
  {
   "cell_type": "code",
   "execution_count": null,
   "id": "cf2a7f9c",
   "metadata": {},
   "outputs": [],
   "source": []
  }
 ],
 "metadata": {
  "kernelspec": {
   "display_name": "Python 3 (ipykernel)",
   "language": "python",
   "name": "python3"
  },
  "language_info": {
   "codemirror_mode": {
    "name": "ipython",
    "version": 3
   },
   "file_extension": ".py",
   "mimetype": "text/x-python",
   "name": "python",
   "nbconvert_exporter": "python",
   "pygments_lexer": "ipython3",
   "version": "3.12.3"
  }
 },
 "nbformat": 4,
 "nbformat_minor": 5
}
