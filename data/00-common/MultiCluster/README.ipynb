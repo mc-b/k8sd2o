{
 "cells": [
  {
   "cell_type": "markdown",
   "metadata": {},
   "source": [
    "## Multi Cluster (Cilium)\n",
    "\n",
    "* [Installation mit kind](01-cilium-install.ipynb)\n",
    "* [Cilium - Linux Foundation Course](https://trainingportal.linuxfoundation.org/learn/course/introduction-to-cilium-lfs146)"
   ]
  }
 ],
 "metadata": {
  "language_info": {
   "name": "python"
  }
 },
 "nbformat": 4,
 "nbformat_minor": 2
}
