{
 "cells": [
  {
   "cell_type": "markdown",
   "metadata": {},
   "source": [
    "Fluent Bit\n",
    "----------\n",
    "\n",
    "![](https://fluentbit.io/images/hero.svg)\n",
    "\n",
    "Quelle: https://fluentbit.io/\n",
    "- - -\n",
    "Fluent Bit ist ein Open Source- und plattformübergreifender Protokollprozessor und -weiterleiter , mit dem Sie Daten / Protokolle aus verschiedenen Quellen sammeln, vereinheitlichen und an mehrere Ziele senden können.\n",
    "\n",
    "Fluent Bit soll Sicherstellen, dass wir die Logs auch nach Beendigung von Container/Pods zur Verfügung haben.\n"
   ]
  },
  {
   "cell_type": "code",
   "execution_count": null,
   "metadata": {},
   "outputs": [],
   "source": [
    "%%bash\n",
    "helm repo add fluent https://fluent.github.io/helm-charts\n",
    "helm upgrade --install fluent-bit fluent/fluent-bit --namespace logging --create-namespace -f 01-fluent-values.yaml"
   ]
  },
  {
   "cell_type": "code",
   "execution_count": null,
   "metadata": {},
   "outputs": [],
   "source": [
    "%%bash\n",
    "kubectl get pods --namespace logging\n",
    "#kubectl logs daemonset/fluent-bit --namespace logging || true\n",
    "kubectl -n logging get pods -l app.kubernetes.io/name=fluent-bit -o name | xargs -I {} kubectl -n logging logs {} --prefix=true | grep au-u69 | tail -5"
   ]
  },
  {
   "cell_type": "markdown",
   "metadata": {},
   "source": [
    "### Vergleichen mit den IIoT logs \n",
    "\n",
    "* [B- Industrial Internet of Things (IIoT) oder Operator Pattern](../B-IIoT/README.ipynb)\n"
   ]
  },
  {
   "cell_type": "code",
   "execution_count": null,
   "metadata": {},
   "outputs": [],
   "source": [
    "%%bash\n",
    "kubectl logs mqtt-listener-au-u69  || true\n",
    "kubectl logs mqtt-listener-au-u69a || true"
   ]
  },
  {
   "cell_type": "markdown",
   "metadata": {},
   "source": [
    "---\n",
    "### Aufräumen"
   ]
  },
  {
   "cell_type": "code",
   "execution_count": null,
   "metadata": {},
   "outputs": [],
   "source": [
    "%%bash\n",
    "helm uninstall fluent-bit --namespace logging "
   ]
  },
  {
   "cell_type": "code",
   "execution_count": null,
   "metadata": {},
   "outputs": [],
   "source": []
  }
 ],
 "metadata": {
  "kernelspec": {
   "display_name": "Python 3 (ipykernel)",
   "language": "python",
   "name": "python3"
  },
  "language_info": {
   "codemirror_mode": {
    "name": "ipython",
    "version": 3
   },
   "file_extension": ".py",
   "mimetype": "text/x-python",
   "name": "python",
   "nbconvert_exporter": "python",
   "pygments_lexer": "ipython3",
   "version": "3.12.3"
  }
 },
 "nbformat": 4,
 "nbformat_minor": 2
}
