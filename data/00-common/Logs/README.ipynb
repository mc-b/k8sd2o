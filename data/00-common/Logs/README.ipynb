{
 "cells": [
  {
   "cell_type": "markdown",
   "metadata": {},
   "source": [
    "Logging\n",
    "=======\n",
    "\n",
    "![](https://d33wubrfki0l68.cloudfront.net/59b1aae2adcfe4f06270b99a2789012ed64bec1f/4d0ad/images/docs/user-guide/logging/logging-node-level.png)\n",
    "\n",
    "Quelle: https://kubernetes.io/docs/concepts/cluster-administration/logging/\n",
    "- - -\n",
    "\n",
    "Mithilfe von Anwendungs- und Systemprotokollen können Sie besser verstehen, was in Ihrem Cluster geschieht.\n",
    "\n",
    "Die Protokolle sind besonders nützlich zum Debuggen von Problemen und zum Überwachen der Clusteraktivität. \n",
    "\n",
    "Die einfachste und am weitesten verbreitete Protokollierungsmethode für containerisierte Anwendungen besteht darin, in die Standardausgabe (stdout) und die Standardfehlerströme (stderr) zu schreiben.\n",
    "\n",
    "Um dies zu Demonstrieren starten wir einen Container mit einer einfachen Endlosschleife, welche einen Zähler und das Datum ausgibt."
   ]
  },
  {
   "cell_type": "code",
   "execution_count": null,
   "metadata": {},
   "outputs": [],
   "source": [
    "%%bash\n",
    "kubectl apply -f https://raw.githubusercontent.com/mc-b/duk/master/logging/counter-pod.yaml"
   ]
  },
  {
   "cell_type": "markdown",
   "metadata": {},
   "source": [
    "und geben sein Log aus:"
   ]
  },
  {
   "cell_type": "code",
   "execution_count": null,
   "metadata": {},
   "outputs": [],
   "source": [
    "%%bash\n",
    "kubectl logs counter || true"
   ]
  },
  {
   "cell_type": "markdown",
   "metadata": {},
   "source": [
    "Nach dem beenden des Container bzw. Pods stehen auch die Logs nicht mehr zur Verfügung.\n",
    "\n",
    "Die zweite Anweisung sollte also entweder einen Fehler oder keine Ausgabe mehr bringen:"
   ]
  },
  {
   "cell_type": "code",
   "execution_count": null,
   "metadata": {},
   "outputs": [],
   "source": [
    "%%bash\n",
    "kubectl delete -f https://raw.githubusercontent.com/mc-b/duk/master/logging/counter-pod.yaml\n",
    "kubectl logs counter || true"
   ]
  },
  {
   "cell_type": "markdown",
   "metadata": {},
   "source": [
    "### Tools zur Aufwertung von Logsfiles\n",
    "\n",
    "* [Fluent Bit](01-fluent-logging.ipynb)"
   ]
  }
 ],
 "metadata": {
  "kernelspec": {
   "display_name": "Python 3 (ipykernel)",
   "language": "python",
   "name": "python3"
  },
  "language_info": {
   "codemirror_mode": {
    "name": "ipython",
    "version": 3
   },
   "file_extension": ".py",
   "mimetype": "text/x-python",
   "name": "python",
   "nbconvert_exporter": "python",
   "pygments_lexer": "ipython3",
   "version": "3.12.3"
  }
 },
 "nbformat": 4,
 "nbformat_minor": 2
}
