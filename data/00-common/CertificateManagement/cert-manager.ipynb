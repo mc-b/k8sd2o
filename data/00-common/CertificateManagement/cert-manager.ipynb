{
 "cells": [
  {
   "cell_type": "markdown",
   "id": "2f4d2350",
   "metadata": {},
   "source": [
    "## Cert-Manager Installation\n",
    "\n",
    "Dazu greifen wir auf Scripts aus dem [Lern Cloud Projekt](https://github.com/mc-b/lerncloud/tree/main/services) zurück:\n",
    "* Installiert den Cert-Manager\n",
    "* Richte eine CA für interne Zertifikate ein.\n"
   ]
  },
  {
   "cell_type": "code",
   "execution_count": null,
   "id": "51235002",
   "metadata": {},
   "outputs": [],
   "source": [
    "%%bash\n",
    "curl -sfL https://raw.githubusercontent.com/mc-b/lerncloud/main/services/cert-manager.sh | bash -"
   ]
  },
  {
   "cell_type": "markdown",
   "id": "01fe3753",
   "metadata": {},
   "source": [
    "### Zertifikatsanfrage für die interne Domain erstellen\n",
    "\n",
    "Wir erstellen pro Kubernetes Namespace ein Zertifikat."
   ]
  },
  {
   "cell_type": "code",
   "execution_count": null,
   "id": "3b5574df",
   "metadata": {},
   "outputs": [],
   "source": [
    "%%bash\n",
    "kubectl apply -f - <<EOF\n",
    "apiVersion: cert-manager.io/v1\n",
    "kind: Certificate\n",
    "metadata:\n",
    "  name: selfsigned-cert-ch\n",
    "  namespace: m01-ch\n",
    "spec:\n",
    "  secretName: selfsigned-cert-secret\n",
    "  duration: 2400h\n",
    "  renewBefore: 12h\n",
    "  issuerRef:\n",
    "    name: selfsigned-cluster-issuer\n",
    "    kind: ClusterIssuer\n",
    "  commonName: ch.$(cat ~/work/server-ip)-edutbz.com\n",
    "  dnsNames:\n",
    "    - ch.$(cat ~/work/server-ip)-edutbz.com\n",
    "EOF"
   ]
  },
  {
   "cell_type": "markdown",
   "id": "bc318c8b",
   "metadata": {},
   "source": [
    "- - -\n",
    "\n",
    "## Testen\n",
    "\n",
    "Das Zertifikat liegt nun als Kubernetes-Secret unter `selfsigned-cert-secret` und kann z. B. für Ingress oder TLS-Services genutzt werden.\n",
    "\n",
    "Wir Testen es mit dem Auto Shop Webshop, welcher vorgängig installiert werden muss."
   ]
  },
  {
   "cell_type": "code",
   "execution_count": null,
   "id": "517a771e",
   "metadata": {},
   "outputs": [],
   "source": [
    "%%bash\n",
    "kubectl apply -f - <<EOF\n",
    "apiVersion: networking.k8s.io/v1\n",
    "kind: Ingress\n",
    "metadata:\n",
    "  name: webshop \n",
    "  namespace: m01-ch\n",
    "  annotations:\n",
    "    cert-manager.io/issuer: selfsigned-cluster-issuer\n",
    "spec:\n",
    "  rules:\n",
    "  - host: ch.$(cat ~/work/server-ip)-edutbz.com\n",
    "    http:\n",
    "      paths:\n",
    "      - path: /webshop\n",
    "        pathType: Prefix\n",
    "        backend:\n",
    "          service:\n",
    "            name: webshop\n",
    "            port:\n",
    "              number: 8080\n",
    "  tls:\n",
    "  - hosts:\n",
    "    - ch.$(cat ~/work/server-ip)-edutbz.com\n",
    "    secretName: selfsigned-cert-secret\n",
    "EOF"
   ]
  },
  {
   "cell_type": "markdown",
   "id": "e9c67d03",
   "metadata": {},
   "source": [
    "### Kontrolle des Zertifikats\n",
    "Testen, ob das Zertifikat übernommen wurde."
   ]
  },
  {
   "cell_type": "code",
   "execution_count": null,
   "id": "cc888195",
   "metadata": {},
   "outputs": [],
   "source": [
    "%%bash\n",
    "helm status autoshop-ch --namespace m01-ch"
   ]
  },
  {
   "cell_type": "markdown",
   "id": "c426ad62",
   "metadata": {},
   "source": [
    "Anschliessend die URL im Browser aufrufen und die Zertifikatsdetails prüfen. Der allgemeine Name (CN) sollte `ch.$(cat ~/work/server-ip)-edutbz.com` sein."
   ]
  },
  {
   "cell_type": "markdown",
   "id": "3ba478ca",
   "metadata": {},
   "source": [
    "- - -\n",
    "\n",
    "## Aufträge\n",
    "\n",
    "* Vervollständig das Beispiel durch die Erstellung der Zertifikate für die anderen K8s Namespaces at und de.\n",
    "* Ersetzt die internen Zertifikate durch von einer CA validierte Zertifikate, z.B. mittels [Let's Encrypt](https://letsencrypt.org/de/)."
   ]
  }
 ],
 "metadata": {
  "kernelspec": {
   "display_name": "Python 3 (ipykernel)",
   "language": "python",
   "name": "python3"
  },
  "language_info": {
   "codemirror_mode": {
    "name": "ipython",
    "version": 3
   },
   "file_extension": ".py",
   "mimetype": "text/x-python",
   "name": "python",
   "nbconvert_exporter": "python",
   "pygments_lexer": "ipython3",
   "version": "3.12.3"
  }
 },
 "nbformat": 4,
 "nbformat_minor": 5
}
