{
 "cells": [
  {
   "cell_type": "markdown",
   "id": "25933eef",
   "metadata": {},
   "source": [
    "## Serving, Eventing\n",
    "\n",
    "Dieses Notebook zeigt, wie K-native serverlose Anwendungen auf Kubernetes bereitstellt – mit automatischer Skalierung, einfacher Verwaltung und Unterstützung ereignisgesteuerter Architekturen.\n",
    "\n",
    "**Installation K-native**\n",
    "\n",
    "Dazu greifen wir auf Scripts aus dem [Lern Cloud Projekt](https://github.com/mc-b/lerncloud/tree/main/services) zurück:\n",
    "* Installiert K-native Serving und Eventing\n",
    "* das zweite Script optimiert den Speicherbedarf von K-native"
   ]
  },
  {
   "cell_type": "code",
   "execution_count": null,
   "id": "2530ba10",
   "metadata": {},
   "outputs": [],
   "source": [
    "%%bash\n",
    "curl -sfL https://raw.githubusercontent.com/mc-b/lerncloud/main/services/knative.sh | bash -\n",
    "curl -sfL https://raw.githubusercontent.com/mc-b/lerncloud/main/services/knative-patch.sh | bash -"
   ]
  },
  {
   "cell_type": "markdown",
   "id": "dea57f59",
   "metadata": {},
   "source": [
    "### FQDN\n",
    "\n",
    "Für K-native brauchen wir einen fixen FQDN.\n",
    "\n",
    "Dieser FQDN inkl. Kubernetes Namespace ist in Eurem DNS-Server als Domain einzutragen!"
   ]
  },
  {
   "cell_type": "code",
   "execution_count": null,
   "id": "8e49a3db",
   "metadata": {},
   "outputs": [],
   "source": [
    "%%bash\n",
    "kubectl patch configmap/config-domain \\\n",
    "  --namespace knative-serving \\\n",
    "  --type merge \\\n",
    "  --patch \"{\\\"data\\\":{\\\"$(cat ~/work/server-ip)-edutbz.com\\\":\\\"\\\"}}\""
   ]
  },
  {
   "cell_type": "markdown",
   "id": "bc6c3077",
   "metadata": {},
   "source": [
    "---\n",
    "## Testen (Hands-on)\n",
    "\n",
    "* [Serving](01-K-native-Serving.ipynb)\n",
    "* [Eventing](02-K-native-Broker.ipynb)\n",
    "* [Eventing IIoT](03-K-native-IIoT.ipynb)\n"
   ]
  },
  {
   "cell_type": "markdown",
   "id": "f21933e7",
   "metadata": {},
   "source": [
    "***\n",
    "\n",
    "## Aufträge\n",
    "\n",
    "* Baut Eure Microservices von Synchroner Kommunikation auf Asynchrone Kommunikation um.\n",
    "* Ersetzt den In-Memory Broker durch Kafka oder einen Message Broker Eurer Wahl."
   ]
  },
  {
   "cell_type": "code",
   "execution_count": null,
   "id": "599e989f",
   "metadata": {},
   "outputs": [],
   "source": []
  }
 ],
 "metadata": {
  "kernelspec": {
   "display_name": "Python 3 (ipykernel)",
   "language": "python",
   "name": "python3"
  },
  "language_info": {
   "codemirror_mode": {
    "name": "ipython",
    "version": 3
   },
   "file_extension": ".py",
   "mimetype": "text/x-python",
   "name": "python",
   "nbconvert_exporter": "python",
   "pygments_lexer": "ipython3",
   "version": "3.12.3"
  }
 },
 "nbformat": 4,
 "nbformat_minor": 5
}
