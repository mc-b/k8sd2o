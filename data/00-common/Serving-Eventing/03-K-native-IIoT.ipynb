{
 "cells": [
  {
   "cell_type": "markdown",
   "id": "214dcbff",
   "metadata": {},
   "source": [
    "## Auto Shop Group\n",
    "\n",
    "![](https://gitlab.com/ch-tbz-wb/Stud/CnA/-/raw/main/2_Unterrichtsressourcen/x_gitressourcen/d-eventing.png)\n",
    "\n",
    "- - -\n",
    "\n",
    "Die Auto Shop GmbH ist zur Auto Shop Group expandiert und unterhält eine grosse Anzahl von Garagen.\n",
    "\n",
    "Diese sind mit Touch Screens ausgestattet, wo die Mechaniker/innen Kundenarbeiten und Verbrauchsmaterial direkt abrechnen können.\n",
    "\n",
    "Die Touch Screen senden die Daten mittels MQTT-Protokolls im CSV-Format. Ein «vor Ort» installiert Kubernetes Cluster wandelt die Daten nach HTTP und JSON und übermittelt diese an die Konzernzentrale.\n",
    "\n",
    "In der Konzernzentrale steht eine CloudEvents basierende Messaging Lösung (Broker) zur Verfügung. Diese Empfängt die Daten und verteilt diese an die Fachapplikationen.\n",
    "\n",
    "\n",
    "- - -\n",
    "\n",
    "Zuerst brauchen wir die IIoT Devices als K8s Resources"
   ]
  },
  {
   "cell_type": "code",
   "execution_count": null,
   "id": "b274d8ef",
   "metadata": {},
   "outputs": [],
   "source": [
    "%%bash\n",
    "! [ -d iiot ] && git clone https://gitlab.com/ch-mc-b/autoshop-ms/infra/iiot.git \n",
    "cd iiot\n",
    "kubectl apply -f crd"
   ]
  },
  {
   "cell_type": "markdown",
   "id": "55822c73",
   "metadata": {},
   "source": [
    "**AWS**\n",
    "\n",
    "Für AWS muss der MQTT Broker URL, von intern `10.0.40.8` auf extern `cloud.tbz.ch`, angepasst werden.\n"
   ]
  },
  {
   "cell_type": "code",
   "execution_count": null,
   "id": "82d8a868",
   "metadata": {},
   "outputs": [],
   "source": [
    "%%bash\n",
    "sed -i -e 's/10.0.40.8/cloud.tbz.ch/g' iiot/mqtt-device-ui/mqtt-device-ui.yaml"
   ]
  },
  {
   "cell_type": "markdown",
   "id": "77b513c4",
   "metadata": {},
   "source": [
    "Dann einen laufenden MQTT-Operator"
   ]
  },
  {
   "cell_type": "code",
   "execution_count": null,
   "id": "2776b877",
   "metadata": {},
   "outputs": [],
   "source": [
    "%%bash\n",
    "cd iiot\n",
    "kubectl label namespace default istio-injection=enabled\n",
    "kubectl apply  -f mqtt-operator\n",
    "kubectl wait --for=condition=Ready pod mqtt-operator --timeout=300s\n",
    "kubectl get pods"
   ]
  },
  {
   "cell_type": "markdown",
   "id": "cf8ab355",
   "metadata": {},
   "source": [
    "Jetzt können wir mit der Erstelllung der Sensoren beginnen.\n",
    "\n",
    "Wir brauchen ein Sensor mit drei Buttons\n",
    "* invoicing\n",
    "* shipment\n",
    "* order"
   ]
  },
  {
   "cell_type": "code",
   "execution_count": null,
   "id": "39a63452",
   "metadata": {},
   "outputs": [],
   "source": [
    "%%bash\n",
    "kubectl apply -f - <<EOF\n",
    "apiVersion: iiot.mc-b.ch/v1alpha1\n",
    "kind: Sensor\n",
    "metadata:\n",
    "  name: invoicing\n",
    "spec:\n",
    "  name: invoicing\n",
    "  type: Button\n",
    "  topic: invoicing\n",
    "  values:\n",
    "    - name: invoicing \n",
    "      unit: \"push\"\n",
    "      value: \"0.0\"\n",
    "---\n",
    "apiVersion: iiot.mc-b.ch/v1alpha1\n",
    "kind: Sensor\n",
    "metadata:\n",
    "  name: shipment\n",
    "spec:\n",
    "  name: shipment\n",
    "  type: Button\n",
    "  topic: shipment\n",
    "  values:\n",
    "    - name: shipment\n",
    "      unit: \"push\"\n",
    "      value: \"0.0\"\n",
    "---      \n",
    "apiVersion: iiot.mc-b.ch/v1alpha1\n",
    "kind: Sensor\n",
    "metadata:\n",
    "  name: order\n",
    "spec:\n",
    "  name: order\n",
    "  type: Button\n",
    "  topic: order\n",
    "  values:\n",
    "    - name: order\n",
    "      unit: \"push\"\n",
    "      value: \"0.0\"      \n",
    "EOF\n"
   ]
  },
  {
   "cell_type": "markdown",
   "id": "a84a875c",
   "metadata": {},
   "source": [
    "Dann braucht es die Deklaration des Gerätes"
   ]
  },
  {
   "cell_type": "code",
   "execution_count": null,
   "id": "d34aba3f",
   "metadata": {},
   "outputs": [],
   "source": [
    "%%bash\n",
    "kubectl apply -f - <<EOF\n",
    "apiVersion: iiot.mc-b.ch/v1alpha1\n",
    "kind: Device\n",
    "metadata:\n",
    "  name: touchscreen\n",
    "spec:\n",
    "  type: Touch Screen\n",
    "  topic: touchscreen\n",
    "  sensors:\n",
    "    - name: invoicing\n",
    "      sensorRef: invoicing\n",
    "    - name: shipment\n",
    "      sensorRef: shipment      \n",
    "    - name: order\n",
    "      sensorRef: order      \n",
    "EOF\n"
   ]
  },
  {
   "cell_type": "markdown",
   "id": "4da67ab4",
   "metadata": {},
   "source": [
    "Und für die Kommunikation mittels MQTT und Umwandlung der Protokolle/Daten die effektive Implementierung\n"
   ]
  },
  {
   "cell_type": "code",
   "execution_count": null,
   "id": "155519a3",
   "metadata": {},
   "outputs": [],
   "source": [
    "%%bash\n",
    "kubectl apply -f - <<EOF\n",
    "apiVersion: iiot.mc-b.ch/v1alpha1\n",
    "kind: MQTTDevice\n",
    "metadata:\n",
    "  name: $(cat ~/work/server-ip)-ch\n",
    "spec:\n",
    "  deviceRef: touchscreen  # Name der referenzierten Device-Ressource\n",
    "  mqttSettings:\n",
    "    broker: mqtt://cloud.tbz.ch:11883  # URL des MQTT-Brokers\n",
    "    topic: $(cat ~/work/server-ip)-ch  # MQTT-Topic für das Gerät\n",
    "    qos: 1  # Quality of Service Level (0, 1 oder 2)\n",
    "    retain: false  # Nachricht zurückhalten (true oder false)\n",
    "  storage:\n",
    "    pvcName: \"data-claim\"\n",
    "    mountPath: \"/data\"\n",
    "---\n",
    "apiVersion: iiot.mc-b.ch/v1alpha1\n",
    "kind: MQTTDevice\n",
    "metadata:\n",
    "  name: $(cat ~/work/server-ip)-at\n",
    "spec:\n",
    "  deviceRef: touchscreen  # Name der referenzierten Device-Ressource\n",
    "  mqttSettings:\n",
    "    broker: mqtt://cloud.tbz.ch:11883  # URL des MQTT-Brokers\n",
    "    topic: $(cat ~/work/server-ip)-at  # MQTT-Topic für das Gerät\n",
    "    qos: 1  # Quality of Service Level (0, 1 oder 2)\n",
    "    retain: false  # Nachricht zurückhalten (true oder false)\n",
    "  storage:\n",
    "    pvcName: \"data-claim\"\n",
    "    mountPath: \"/data\"\n",
    "---\n",
    "apiVersion: iiot.mc-b.ch/v1alpha1\n",
    "kind: MQTTDevice\n",
    "metadata:\n",
    "  name: $(cat ~/work/server-ip)-d\n",
    "spec:\n",
    "  deviceRef: touchscreen  # Name der referenzierten Device-Ressource\n",
    "  mqttSettings:\n",
    "    broker: mqtt://cloud.tbz.ch:11883  # URL des MQTT-Brokers\n",
    "    topic: $(cat ~/work/server-ip)-d  # MQTT-Topic für das Gerät\n",
    "    qos: 1  # Quality of Service Level (0, 1 oder 2)\n",
    "    retain: false  # Nachricht zurückhalten (true oder false)\n",
    "  storage:\n",
    "    pvcName: \"data-claim\"\n",
    "    mountPath: \"/data\"\n",
    "EOF\n"
   ]
  },
  {
   "cell_type": "markdown",
   "id": "96db273b",
   "metadata": {},
   "source": [
    "Das User Interface liefert uns eine Übersicht über das erstelle Gerät"
   ]
  },
  {
   "cell_type": "code",
   "execution_count": null,
   "id": "4b859b07",
   "metadata": {},
   "outputs": [],
   "source": [
    "%%bash\n",
    "cd iiot\n",
    "kubectl apply -f mqtt-device-ui    \n",
    "echo \"http://\"$(cat ~/work/server-ip)\":$(kubectl get service mqtt-device-ui -o=jsonpath='{ .spec.ports[0].nodePort }')/\" "
   ]
  },
  {
   "cell_type": "code",
   "execution_count": null,
   "id": "43d4e59b",
   "metadata": {},
   "outputs": [],
   "source": [
    "%%bash\n",
    "for dach in ch at d\n",
    "do\n",
    "    kubectl logs mqtt-listener-$(cat ~/work/server-ip)-${dach}\n",
    "done"
   ]
  },
  {
   "cell_type": "markdown",
   "id": "417d1318",
   "metadata": {},
   "source": [
    "## Broker und Webshop (Empfänger) \n",
    "\n",
    "An folgenden Broker und Topcis wollen wir senden"
   ]
  },
  {
   "cell_type": "code",
   "execution_count": null,
   "id": "cbb31aac",
   "metadata": {},
   "outputs": [],
   "source": [
    "%%bash\n",
    "export NS_BRKR='ms-brkr'\n",
    "echo \"Broker URL (intern)\"\n",
    "kubectl get broker default -o jsonpath='{.status.address.url}' --namespace ${NS_BRKR}\n",
    "echo \"\"\n",
    "echo \"------------------------\"\n",
    "echo \"Broker URL (extern)\"\n",
    "echo \"http://$(cat ~/work/server-ip):\"$(kubectl get svc broker-ingress -n knative-eventing -o jsonpath='{.spec.ports[?(@.port==80)].nodePort}')/${NS_BRKR}/default\n",
    "echo \"------------------------\"\n",
    "echo \"Triggers\"\n",
    "kn trigger list --namespace ${NS_BRKR}\n",
    "echo \"------------------------\"\n",
    "echo \"Microservice Menu\"\n",
    "echo \"http://\"$(cat ~/work/server-ip)\":\"$(kubectl get service --namespace ${NS_BRKR} webshop -o=jsonpath='{ .spec.ports[0].nodePort }')/webshop"
   ]
  },
  {
   "cell_type": "markdown",
   "id": "aef00521",
   "metadata": {},
   "source": [
    "Im Log des Brokers sehen wir die Daten oder evtl. Fehler"
   ]
  },
  {
   "cell_type": "code",
   "execution_count": null,
   "id": "2ea863dc",
   "metadata": {},
   "outputs": [],
   "source": [
    "%%bash\n",
    "kubectl logs -n knative-eventing deploy/mt-broker-ingress"
   ]
  },
  {
   "cell_type": "markdown",
   "id": "3906bb14",
   "metadata": {},
   "source": [
    "---\n",
    "\n",
    "### Aufräumen"
   ]
  },
  {
   "cell_type": "code",
   "execution_count": null,
   "id": "cf797819",
   "metadata": {},
   "outputs": [],
   "source": [
    "%%bash\n",
    "kubectl delete mqttdevice $(cat ~/work/server-ip)-ch\n",
    "kubectl delete mqttdevice $(cat ~/work/server-ip)-at\n",
    "kubectl delete mqttdevice $(cat ~/work/server-ip)-d\n",
    "kubectl delete device touchscreen\n",
    "kubectl delete sensor invoicing\n",
    "kubectl delete sensor shipment\n",
    "kubectl delete sensor order\n",
    "cd iiot\n",
    "kubectl delete -f mqtt-operator # --grace-period=0 --force \n",
    "kubectl delete -f mqtt-device-ui # --grace-period=0 --force \n",
    "kubectl delete -f crd\n"
   ]
  },
  {
   "cell_type": "code",
   "execution_count": null,
   "id": "257ac76f",
   "metadata": {},
   "outputs": [],
   "source": []
  }
 ],
 "metadata": {
  "kernelspec": {
   "display_name": "Python 3 (ipykernel)",
   "language": "python",
   "name": "python3"
  },
  "language_info": {
   "codemirror_mode": {
    "name": "ipython",
    "version": 3
   },
   "file_extension": ".py",
   "mimetype": "text/x-python",
   "name": "python",
   "nbconvert_exporter": "python",
   "pygments_lexer": "ipython3",
   "version": "3.12.3"
  }
 },
 "nbformat": 4,
 "nbformat_minor": 5
}
