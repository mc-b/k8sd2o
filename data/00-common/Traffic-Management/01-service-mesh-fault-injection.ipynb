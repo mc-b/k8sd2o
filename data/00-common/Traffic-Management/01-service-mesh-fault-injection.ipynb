{
 "cells": [
  {
   "cell_type": "markdown",
   "id": "e6cbbd7f",
   "metadata": {},
   "source": [
    "## Service Mesh mit Fault-Injection\n",
    "\n",
    "Dieses Hands-On führt dich Schritt für Schritt durch die Fehlerbehebung bei einem fehlerhaften Microservice in einer Istio-verwalteten Umgebung.\n",
    "\n",
    "---\n",
    "\n",
    "**Ziel**\n",
    "- Identifiziere den fehlerhaften Microservice mithilfe von Istio Telemetry\n",
    "- Konfiguriere eine Retry-Policy, um die Auswirkung vorübergehender Fehler zu minimieren.\n",
    "- Optimiere Ressourcen oder Latenzzeiten des betroffenen Services."
   ]
  },
  {
   "cell_type": "markdown",
   "id": "00539bed",
   "metadata": {},
   "source": [
    "### Namespace erstellen und Istio aktivieren"
   ]
  },
  {
   "cell_type": "code",
   "execution_count": null,
   "id": "b20a315d",
   "metadata": {},
   "outputs": [],
   "source": [
    "%%bash\n",
    "kubectl create namespace ms-rest\n",
    "kubectl label namespace ms-rest istio-injection=enabled\n"
   ]
  },
  {
   "cell_type": "markdown",
   "id": "8511d579",
   "metadata": {},
   "source": [
    "### Deployment der Microservices"
   ]
  },
  {
   "cell_type": "code",
   "execution_count": null,
   "id": "fe832865",
   "metadata": {},
   "outputs": [],
   "source": [
    "%%bash\n",
    "kubectl apply --namespace ms-rest -f https://gitlab.com/ch-mc-b/autoshop-ms/infra/kubernetes-templates/-/raw/main/2.1.0-pod/catalog-pod.yaml\n",
    "kubectl apply --namespace ms-rest -f https://gitlab.com/ch-mc-b/autoshop-ms/infra/kubernetes-templates/-/raw/main/2.1.0-pod/customer-pod.yaml\n",
    "kubectl apply --namespace ms-rest -f https://gitlab.com/ch-mc-b/autoshop-ms/infra/kubernetes-templates/-/raw/main/2.1.0-pod/order-pod.yaml\n",
    "kubectl apply --namespace ms-rest -f https://gitlab.com/ch-mc-b/autoshop-ms/infra/kubernetes-templates/-/raw/main/2.1.0-pod/webshop-pod.yaml"
   ]
  },
  {
   "cell_type": "markdown",
   "id": "6951297a",
   "metadata": {},
   "source": [
    "### Bereitstellung der Services"
   ]
  },
  {
   "cell_type": "code",
   "execution_count": null,
   "id": "bf30e1d7",
   "metadata": {},
   "outputs": [],
   "source": [
    "%%bash\n",
    "kubectl apply --namespace ms-rest -f https://gitlab.com/ch-mc-b/autoshop-ms/infra/kubernetes-templates/-/raw/main/catalog-service.yaml\n",
    "kubectl apply --namespace ms-rest -f https://gitlab.com/ch-mc-b/autoshop-ms/infra/kubernetes-templates/-/raw/main/customer-service.yaml\n",
    "kubectl apply --namespace ms-rest -f https://gitlab.com/ch-mc-b/autoshop-ms/infra/kubernetes-templates/-/raw/main/order-service.yaml\n",
    "kubectl apply --namespace ms-rest -f https://gitlab.com/ch-mc-b/autoshop-ms/infra/kubernetes-templates/-/raw/main/webshop-service.yaml\n"
   ]
  },
  {
   "cell_type": "markdown",
   "id": "99d4b948",
   "metadata": {},
   "source": [
    "### Status der Deployments und Services überprüfen"
   ]
  },
  {
   "cell_type": "code",
   "execution_count": null,
   "id": "c7301064",
   "metadata": {},
   "outputs": [],
   "source": [
    "%%bash\n",
    "kubectl get pod,services --namespace ms-rest"
   ]
  },
  {
   "cell_type": "markdown",
   "id": "2ee7a8d0",
   "metadata": {},
   "source": [
    "### Webshop-URL ermitteln"
   ]
  },
  {
   "cell_type": "code",
   "execution_count": null,
   "id": "9d587a74",
   "metadata": {},
   "outputs": [],
   "source": [
    "%%bash\n",
    "echo \"http://\"$(cat ~/work/server-ip)\":\"$(kubectl get service --namespace ms-rest webshop -o=jsonpath='{ .spec.ports[0].nodePort }')/webshop\n"
   ]
  },
  {
   "cell_type": "markdown",
   "id": "42852f72",
   "metadata": {},
   "source": [
    "### Fault-Injection\n",
    "\n",
    "Istio unterstützt Fault-Injection zur Simulation von Fehlern (z. B. Latenz oder HTTP-Fehlercodes)\n"
   ]
  },
  {
   "cell_type": "code",
   "execution_count": null,
   "id": "03fbee6b",
   "metadata": {},
   "outputs": [],
   "source": [
    "%%bash\n",
    "cat <<EOF | kubectl apply -f - \n",
    "apiVersion: networking.istio.io/v1beta1\n",
    "kind: VirtualService\n",
    "metadata:\n",
    "  name: customer-fault-injection\n",
    "  namespace: ms-rest\n",
    "spec:\n",
    "  hosts:\n",
    "  - customer.ms-rest.svc.cluster.local\n",
    "  http:\n",
    "  - match:\n",
    "    - sourceLabels:\n",
    "        app: order\n",
    "    fault:\n",
    "      delay:\n",
    "        percentage:\n",
    "          value: 50.0 # 50% der Anfragen verzögern\n",
    "        fixedDelay: 5s # Verzögerung um 5 Sekunden\n",
    "      abort:\n",
    "        percentage:\n",
    "          value: 20.0 # 20% der Anfragen abbrechen\n",
    "        httpStatus: 500 # Mit HTTP 500 abbrechen\n",
    "    route:\n",
    "    - destination:\n",
    "        host: customer\n",
    "        port:\n",
    "          number: 8080\n",
    "EOF"
   ]
  },
  {
   "cell_type": "markdown",
   "id": "69eea48c",
   "metadata": {},
   "source": [
    "### Lasttest durchführen"
   ]
  },
  {
   "cell_type": "code",
   "execution_count": null,
   "id": "c443b6be",
   "metadata": {},
   "outputs": [],
   "source": [
    "%%bash\n",
    "# LastTest mit 404\n",
    "URL=\"http://localhost\":$(kubectl get service --namespace ms-rest webshop -o=jsonpath='{ .spec.ports[0].nodePort }')/webshop\n",
    "hey -z 10s -c 50  ${URL}/order/order"
   ]
  },
  {
   "cell_type": "markdown",
   "id": "2508a0df",
   "metadata": {},
   "source": [
    "Der Traffic sollte in Kiali, Jaeger oder Zipkin sichtbar sein."
   ]
  },
  {
   "cell_type": "markdown",
   "id": "ddea8360",
   "metadata": {},
   "source": [
    "### Aufräumen"
   ]
  },
  {
   "cell_type": "code",
   "execution_count": null,
   "id": "faa38ef0",
   "metadata": {},
   "outputs": [],
   "source": [
    "%%bash\n",
    "kubectl delete namespace ms-rest"
   ]
  },
  {
   "cell_type": "markdown",
   "id": "16247e59",
   "metadata": {},
   "source": [
    "### Quellen\n",
    "- [Sourcecode](https://gitlab.com/ch-mc-b/autoshop-ms/app/shop/-/tree/v2.1.0?ref_type=heads)\n",
    "- [Kubernetes Deklarationen](https://gitlab.com/ch-mc-b/autoshop-ms/infra/kubernetes-templates)\n",
    "- [Container Registry](https://gitlab.com/ch-mc-b/autoshop-ms/app/shop/container_registry)"
   ]
  }
 ],
 "metadata": {
  "kernelspec": {
   "display_name": "Python 3 (ipykernel)",
   "language": "python",
   "name": "python3"
  },
  "language_info": {
   "codemirror_mode": {
    "name": "ipython",
    "version": 3
   },
   "file_extension": ".py",
   "mimetype": "text/x-python",
   "name": "python",
   "nbconvert_exporter": "python",
   "pygments_lexer": "ipython3",
   "version": "3.12.3"
  }
 },
 "nbformat": 4,
 "nbformat_minor": 5
}
