{
 "cells": [
  {
   "cell_type": "markdown",
   "id": "d8044554",
   "metadata": {},
   "source": [
    "## Traffic Management\n",
    "\n",
    "Dieses Notebook zeigt, wie Istio als Service-Mesh die Kommunikation, Sicherheit und Überwachung von Microservices in Kubernetes verbessert – ohne Anpassungen an der Anwendungslogik.\n",
    "\n",
    "**Installation von Istio (Custom)-Profile Zipkin**\n",
    "\n",
    "Dazu greifen wir auf Scripts aus dem [Lern Cloud Projekt](https://github.com/mc-b/lerncloud/tree/main/services) zurück:\n",
    "* das erste Installiert Istio mit Zipkin\n",
    "* das zweite Script optimiert den Speicherbedarf von Istio"
   ]
  },
  {
   "cell_type": "code",
   "execution_count": null,
   "id": "f7f5d118",
   "metadata": {},
   "outputs": [],
   "source": [
    "%%bash\n",
    "curl -sfL https://raw.githubusercontent.com/mc-b/lerncloud/main/services/istio-zipkin.sh | bash -\n",
    "curl -sfL https://raw.githubusercontent.com/mc-b/lerncloud/main/services/istio-patch.sh | bash -"
   ]
  },
  {
   "cell_type": "markdown",
   "id": "da229c3f",
   "metadata": {},
   "source": [
    "Das **Zipkin Dashboard** kann über die folgende URL aufgerufen werden."
   ]
  },
  {
   "cell_type": "code",
   "execution_count": null,
   "id": "6c648ae0",
   "metadata": {},
   "outputs": [],
   "source": [
    "%%bash\n",
    "kubectl get service -n istio-system -l name=zipkin -o yaml | sed 's/ClusterIP/NodePort/g' | kubectl apply -f -\n",
    "echo \"Zipkin  UI: http://\"$(cat ~/work/server-ip)\":\"$(kubectl get -n istio-system service/zipkin -o jsonpath='{.spec.ports[?(@.name==\"http-query\")].nodePort}')"
   ]
  },
  {
   "cell_type": "markdown",
   "id": "e217eba9",
   "metadata": {},
   "source": [
    "---\n",
    "\n",
    "## Testen (Hands-On)\n",
    "\n",
    "* [Einfacher Service-Mesh](01-service-mesh.ipynb)\n",
    "* [Service-Mesh - Big Ball of Mud](01-service-mesh-BBuM.ipynb)\n",
    "* [Service-Mesh mit Fault Injection](01-service-mesh-fault-injection.ipynb)\n",
    "* [Service-Mesh mit aktiviertem mTLS](01-service-mesh-tls.ipynb)"
   ]
  },
  {
   "cell_type": "markdown",
   "id": "45d61860",
   "metadata": {},
   "source": [
    "- - -\n",
    "\n",
    "## Aufträge\n",
    "\n",
    "- Warum kann bei der [Service-Mesh mit aktiviertem mTLS](01-service-mesh-tls.ipynb) das UI des Webshop nicht mehr angewählt werden, welche Schritte braucht es damit es wieder funktioniert.\n",
    "- Überlegt, welche Schritte nötig sind, um statt Istio den Cert-Manager für die Zertifikatsverwaltung zu nutzen.  \n",
    "- Verbindet Istio mit einem OAuth-Provider."
   ]
  },
  {
   "cell_type": "markdown",
   "id": "f2414f3c",
   "metadata": {},
   "source": [
    "**Links**\n",
    "* [Homepage Zipkin](https://zipkin.io/)\n",
    "* [Istio und Zipkin](https://istio.io/latest/docs/tasks/observability/distributed-tracing/zipkin/)"
   ]
  },
  {
   "cell_type": "markdown",
   "id": "7c787d97",
   "metadata": {},
   "source": [
    "---\n",
    "\n",
    "### Aufräumen\n",
    "\n",
    "Wen Istio nicht mehr benötigt wird, kann es entfernt werden."
   ]
  },
  {
   "cell_type": "code",
   "execution_count": null,
   "id": "9e6f28d1",
   "metadata": {},
   "outputs": [],
   "source": [
    "%%bash\n",
    "export ISTIO_VERSION=1.24.2\n",
    "kubectl delete -f https://raw.githubusercontent.com/istio/istio/release-1.24/samples/addons/extras/zipkin.yaml\n",
    "istioctl uninstall -y --purge"
   ]
  }
 ],
 "metadata": {
  "kernelspec": {
   "display_name": "Python 3 (ipykernel)",
   "language": "python",
   "name": "python3"
  },
  "language_info": {
   "codemirror_mode": {
    "name": "ipython",
    "version": 3
   },
   "file_extension": ".py",
   "mimetype": "text/x-python",
   "name": "python",
   "nbconvert_exporter": "python",
   "pygments_lexer": "ipython3",
   "version": "3.12.3"
  }
 },
 "nbformat": 4,
 "nbformat_minor": 5
}
