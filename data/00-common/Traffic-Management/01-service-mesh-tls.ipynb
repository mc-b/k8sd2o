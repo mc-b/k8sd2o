{
 "cells": [
  {
   "cell_type": "markdown",
   "id": "e6cbbd7f",
   "metadata": {},
   "source": [
    "## Einfacher Service Mesh inkl. Verschlüsselung\n",
    "Dieses Notebook enthält die notwendigen Befehle zur Bereitstellung eines einfachen Service Mesh mit Istio.\n"
   ]
  },
  {
   "cell_type": "markdown",
   "id": "00539bed",
   "metadata": {},
   "source": [
    "### Namespace erstellen und Istio aktivieren"
   ]
  },
  {
   "cell_type": "code",
   "execution_count": null,
   "id": "b20a315d",
   "metadata": {},
   "outputs": [],
   "source": [
    "%%bash\n",
    "kubectl create namespace ms-rest\n",
    "kubectl label namespace ms-rest istio-injection=enabled\n"
   ]
  },
  {
   "cell_type": "markdown",
   "id": "c05f8ad2",
   "metadata": {},
   "source": [
    "Verschlüsselung des Datenverkehrs erzwingen"
   ]
  },
  {
   "cell_type": "code",
   "execution_count": null,
   "id": "a7fd5e97",
   "metadata": {},
   "outputs": [],
   "source": [
    "%%bash\n",
    "kubectl apply -f - <<EOF\n",
    "apiVersion: security.istio.io/v1beta1\n",
    "kind: PeerAuthentication\n",
    "metadata:\n",
    "  name: default\n",
    "  namespace: ms-rest\n",
    "spec:\n",
    "  mtls:\n",
    "    mode: STRICT\n",
    "EOF"
   ]
  },
  {
   "cell_type": "markdown",
   "id": "8511d579",
   "metadata": {},
   "source": [
    "### Deployment der Microservices"
   ]
  },
  {
   "cell_type": "code",
   "execution_count": null,
   "id": "fe832865",
   "metadata": {},
   "outputs": [],
   "source": [
    "%%bash\n",
    "kubectl apply --namespace ms-rest -f https://gitlab.com/ch-mc-b/autoshop-ms/infra/kubernetes-templates/-/raw/main/2.1.0-pod/catalog-pod.yaml\n",
    "kubectl apply --namespace ms-rest -f https://gitlab.com/ch-mc-b/autoshop-ms/infra/kubernetes-templates/-/raw/main/2.1.0-pod/customer-pod.yaml\n",
    "kubectl apply --namespace ms-rest -f https://gitlab.com/ch-mc-b/autoshop-ms/infra/kubernetes-templates/-/raw/main/2.1.0-pod/order-pod.yaml\n",
    "kubectl apply --namespace ms-rest -f https://gitlab.com/ch-mc-b/autoshop-ms/infra/kubernetes-templates/-/raw/main/2.1.0-pod/webshop-pod.yaml\n"
   ]
  },
  {
   "cell_type": "markdown",
   "id": "6951297a",
   "metadata": {},
   "source": [
    "### Bereitstellung der Services"
   ]
  },
  {
   "cell_type": "code",
   "execution_count": null,
   "id": "bf30e1d7",
   "metadata": {},
   "outputs": [],
   "source": [
    "%%bash\n",
    "kubectl apply --namespace ms-rest -f https://gitlab.com/ch-mc-b/autoshop-ms/infra/kubernetes-templates/-/raw/main/catalog-service.yaml\n",
    "kubectl apply --namespace ms-rest -f https://gitlab.com/ch-mc-b/autoshop-ms/infra/kubernetes-templates/-/raw/main/customer-service.yaml\n",
    "kubectl apply --namespace ms-rest -f https://gitlab.com/ch-mc-b/autoshop-ms/infra/kubernetes-templates/-/raw/main/order-service.yaml\n",
    "kubectl apply --namespace ms-rest -f https://gitlab.com/ch-mc-b/autoshop-ms/infra/kubernetes-templates/-/raw/main/webshop-service.yaml\n"
   ]
  },
  {
   "cell_type": "markdown",
   "id": "99d4b948",
   "metadata": {},
   "source": [
    "### Status der Deployments und Services überprüfen"
   ]
  },
  {
   "cell_type": "code",
   "execution_count": null,
   "id": "c7301064",
   "metadata": {},
   "outputs": [],
   "source": [
    "%%bash\n",
    "kubectl get pod,services --namespace ms-rest"
   ]
  },
  {
   "cell_type": "markdown",
   "id": "9f6e215b",
   "metadata": {},
   "source": [
    "Prüfen ob die Verschlüsselung aktiviert wurde"
   ]
  },
  {
   "cell_type": "code",
   "execution_count": null,
   "id": "42253a1e",
   "metadata": {},
   "outputs": [],
   "source": [
    "%%bash\n",
    "kubectl get peerauthentication -n ms-rest"
   ]
  },
  {
   "cell_type": "markdown",
   "id": "2ee7a8d0",
   "metadata": {},
   "source": [
    "### Webshop-URL ermitteln"
   ]
  },
  {
   "cell_type": "code",
   "execution_count": null,
   "id": "9d587a74",
   "metadata": {},
   "outputs": [],
   "source": [
    "%%bash\n",
    "echo \"https://\"$(cat ~/work/server-ip)\":\"$(kubectl get service --namespace ms-rest webshop -o=jsonpath='{ .spec.ports[0].nodePort }')/webshop\n"
   ]
  },
  {
   "cell_type": "markdown",
   "id": "69eea48c",
   "metadata": {},
   "source": [
    "### Lasttest durchführen"
   ]
  },
  {
   "cell_type": "code",
   "execution_count": null,
   "id": "c443b6be",
   "metadata": {
    "scrolled": true
   },
   "outputs": [],
   "source": [
    "%%bash\n",
    "# LastTest mit 404\n",
    "URL=\"https://localhost\":$(kubectl get service --namespace ms-rest webshop -o=jsonpath='{ .spec.ports[0].nodePort }')/webshop\n",
    "hey -z 10s -c 50  ${URL}/order/order"
   ]
  },
  {
   "cell_type": "markdown",
   "id": "2508a0df",
   "metadata": {},
   "source": [
    "Der Traffic sollte in Kiali, Jaeger oder Zipkin sichtbar sein."
   ]
  },
  {
   "cell_type": "markdown",
   "id": "ddea8360",
   "metadata": {},
   "source": [
    "### Aufräumen"
   ]
  },
  {
   "cell_type": "code",
   "execution_count": null,
   "id": "faa38ef0",
   "metadata": {},
   "outputs": [],
   "source": [
    "%%bash\n",
    "kubectl delete namespace ms-rest"
   ]
  },
  {
   "cell_type": "markdown",
   "id": "16247e59",
   "metadata": {},
   "source": [
    "### Quellen\n",
    "- [Sourcecode](https://gitlab.com/ch-mc-b/autoshop-ms/app/shop/-/tree/v2.1.0?ref_type=heads)\n",
    "- [Kubernetes Deklarationen](https://gitlab.com/ch-mc-b/autoshop-ms/infra/kubernetes-templates)\n",
    "- [Container Registry](https://gitlab.com/ch-mc-b/autoshop-ms/app/shop/container_registry)"
   ]
  }
 ],
 "metadata": {
  "kernelspec": {
   "display_name": "Python 3 (ipykernel)",
   "language": "python",
   "name": "python3"
  },
  "language_info": {
   "codemirror_mode": {
    "name": "ipython",
    "version": 3
   },
   "file_extension": ".py",
   "mimetype": "text/x-python",
   "name": "python",
   "nbconvert_exporter": "python",
   "pygments_lexer": "ipython3",
   "version": "3.12.3"
  }
 },
 "nbformat": 4,
 "nbformat_minor": 5
}
