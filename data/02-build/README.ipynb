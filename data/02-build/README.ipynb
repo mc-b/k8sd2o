{
 "cells": [
  {
   "cell_type": "markdown",
   "id": "d3e671f8",
   "metadata": {},
   "source": [
    "## Infrastruktur - Build\n",
    "\n",
    "Unser Kunde, die **Auto Shop GmbH**, ist in der **DACH-Region** tätig. Der Shop wird derzeit über [Docker Compose](https://gitlab.com/ch-mc-b/autoshop-ms/app/shop) betrieben, soll jedoch auf **Kubernetes** migriert werden. \n",
    "\n",
    "Diese Instanz wurde eingerichtet, um Software automatisch zu bauen.\n",
    "\n",
    "Sie enthält unter anderem folgende Programme:"
   ]
  },
  {
   "cell_type": "code",
   "execution_count": null,
   "id": "deeb0497",
   "metadata": {},
   "outputs": [],
   "source": [
    "%%bash\n",
    "sudo cat /var/log/cloud-init-output.log | grep -E 'INFO|ERROR' || true"
   ]
  },
  {
   "cell_type": "markdown",
   "id": "9e9ecfbf",
   "metadata": {},
   "source": [
    "Um eine Verbindung mittels `ssh` in die VM herzustellen, gebt den nachfolgenden Befehl auf Eurem Notebook ein.\n",
    "\n",
    "Die `ssh`-Keys sind [hier](https://github.com/mc-b/lerncloud/tree/main/ssh)."
   ]
  },
  {
   "cell_type": "code",
   "execution_count": null,
   "id": "74faf958",
   "metadata": {},
   "outputs": [],
   "source": [
    "%%bash\n",
    "echo \"ssh -i ~/.ssh/lerncloud ubuntu@$(cat ~/work/server-ip)\""
   ]
  },
  {
   "cell_type": "markdown",
   "id": "f42fd44e",
   "metadata": {},
   "source": [
    "### Kubernetes Dashboard\n",
    "\n",
    "Das **Kubernetes Dashboard** über die folgende URL aufgerufen werden. Ein Token oder eine Kubeconfig-Datei ist nicht erforderlich – einfach auf \"Skip\" bzw. \"Überspringen\" klicken."
   ]
  },
  {
   "cell_type": "code",
   "execution_count": null,
   "id": "dc99bd17",
   "metadata": {},
   "outputs": [],
   "source": [
    "%%bash\n",
    "echo \"https://$(cat ~/work/server-ip)\":30443"
   ]
  },
  {
   "cell_type": "markdown",
   "id": "9367fc48",
   "metadata": {},
   "source": [
    "### Gitlab CE\n",
    "\n",
    "Die Gitlab CE (Community Edition) kann unter dem folgenden URL errreicht werden:"
   ]
  },
  {
   "cell_type": "code",
   "execution_count": null,
   "id": "8e9d0d57",
   "metadata": {},
   "outputs": [],
   "source": [
    "%%bash\n",
    "echo \"URL     : http://$(cat ~/work/server-ip)\"\n",
    "echo \"User    : root\"\n",
    "echo \"$(sudo cat /etc/gitlab/initial_root_password  | grep Password:)\""
   ]
  }
 ],
 "metadata": {
  "kernelspec": {
   "display_name": "Python 3 (ipykernel)",
   "language": "python",
   "name": "python3"
  },
  "language_info": {
   "codemirror_mode": {
    "name": "ipython",
    "version": 3
   },
   "file_extension": ".py",
   "mimetype": "text/x-python",
   "name": "python",
   "nbconvert_exporter": "python",
   "pygments_lexer": "ipython3",
   "version": "3.12.3"
  }
 },
 "nbformat": 4,
 "nbformat_minor": 5
}
