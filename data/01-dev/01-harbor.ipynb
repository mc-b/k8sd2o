{
 "cells": [
  {
   "cell_type": "markdown",
   "id": "734c5cee",
   "metadata": {},
   "source": [
    "## Harbor Installation\n",
    "\n",
    "Dieses Notebook enthält die notwendigen Befehle zur Konfiguration von Harbor mittels Docker Compose.\n",
    "\n",
    "Folgendes wurde bereites Installiert bzw. downgeloadet\n",
    "* Harbor nach ~/harbor\n",
    "* docker-compose\n",
    "* cert-manager \n",
    "    * SelfSigned ClusterIssuer (stellt die CA aus)\n",
    "    * Certificate für CA\n",
    "    * CA Issuer (nutzt die erzeugte CA)\n",
    "    * Das eigentliches Zertifikat\n"
   ]
  },
  {
   "cell_type": "markdown",
   "id": "426b15d0",
   "metadata": {},
   "source": [
    "Auslesen der Zertifikate aus Kubernetes"
   ]
  },
  {
   "cell_type": "code",
   "execution_count": null,
   "id": "91cc6eb4",
   "metadata": {},
   "outputs": [],
   "source": [
    "%%bash\n",
    "kubectl get secret root-selfsigned-cert -o jsonpath=\"{.data.tls\\.crt}\" | base64 --decode > ~/harbor/tls.crt\n",
    "kubectl get secret root-selfsigned-cert -o jsonpath=\"{.data.tls\\.key}\" | base64 --decode > ~/harbor/tls.key"
   ]
  },
  {
   "cell_type": "markdown",
   "id": "40775a41",
   "metadata": {},
   "source": [
    "Zertifikatsinhalt prüfen bzw. Ausgeben"
   ]
  },
  {
   "cell_type": "code",
   "execution_count": null,
   "id": "59473303",
   "metadata": {},
   "outputs": [],
   "source": [
    "%%bash\n",
    "openssl x509 -in ~/harbor/tls.crt -text -noout"
   ]
  },
  {
   "cell_type": "markdown",
   "id": "15c642ec",
   "metadata": {},
   "source": [
    "### Harbor Konfiguration anpassen"
   ]
  },
  {
   "cell_type": "code",
   "execution_count": null,
   "id": "776a563c",
   "metadata": {},
   "outputs": [],
   "source": [
    "%%bash\n",
    "cd ~/harbor\n",
    "cp harbor.yml.tmpl harbor.yml\n",
    "sed -i -e \"s/reg.mydomain.com/$(cat ~/work/server-ip)/g\" harbor.yml\n",
    "sed -i -e 's/port: 80/port: 9090/g' harbor.yml\n",
    "sed -i -e 's/port: 443/port: 9443/g' harbor.yml\n",
    "sed -i -e 's;certificate: /your/certificate/path;certificate: /home/ubuntu/harbor/tls.crt;g' harbor.yml\n",
    "sed -i -e 's;private_key: /your/private/key/path;private_key: /home/ubuntu/harbor/tls.key;g' harbor.yml"
   ]
  },
  {
   "cell_type": "markdown",
   "id": "d7b52de1",
   "metadata": {},
   "source": [
    "### Harbor starten"
   ]
  },
  {
   "cell_type": "code",
   "execution_count": null,
   "id": "3f5694fa",
   "metadata": {},
   "outputs": [],
   "source": [
    "%%bash\n",
    "cd ~/harbor\n",
    "sudo ./install.sh --with-trivy"
   ]
  },
  {
   "cell_type": "markdown",
   "id": "d60d2bb3",
   "metadata": {},
   "source": [
    "Harbor ist dann via dem untenstehenden URL erreichbar.\n",
    "Benutzer: `admin`, Passwort: `Harbor12345`."
   ]
  },
  {
   "cell_type": "code",
   "execution_count": null,
   "id": "063efd5e",
   "metadata": {},
   "outputs": [],
   "source": [
    "%%bash\n",
    "echo \"https://$(cat ~/work/server-ip):9443\""
   ]
  },
  {
   "cell_type": "markdown",
   "id": "9816398b",
   "metadata": {},
   "source": [
    "### Docker: Selbst signiertes Zertifikat vertrauenswürdig machen"
   ]
  },
  {
   "cell_type": "code",
   "execution_count": null,
   "id": "294f9fe0",
   "metadata": {},
   "outputs": [],
   "source": [
    "%%bash\n",
    "kubectl get secret root-selfsigned-cert -o jsonpath=\"{.data.ca\\.crt}\" | base64 --decode > ~/harbor/ca.crt"
   ]
  },
  {
   "cell_type": "code",
   "execution_count": null,
   "id": "7e2333cb",
   "metadata": {},
   "outputs": [],
   "source": [
    "%%bash\n",
    "sudo mkdir -p /etc/docker/certs.d/$(cat ~/work/server-ip):9443\n",
    "sudo cp ~/harbor/ca.crt /etc/docker/certs.d/$(cat ~/work/server-ip):9443/ca.crt"
   ]
  },
  {
   "cell_type": "markdown",
   "id": "7c970832",
   "metadata": {},
   "source": [
    "Jetzt sollte `docker login` ohne Fehlermeldung funktionieren."
   ]
  },
  {
   "cell_type": "code",
   "execution_count": null,
   "id": "3c3ac59c",
   "metadata": {},
   "outputs": [],
   "source": [
    "%%bash\n",
    "docker login $(cat ~/work/server-ip):9443 -u admin -p Harbor12345"
   ]
  },
  {
   "cell_type": "markdown",
   "id": "749f028b",
   "metadata": {},
   "source": [
    "### Registry Harbor verwenden\n",
    "\n",
    "Dazu builden wir zuerst unsere Auto Shop Microservices"
   ]
  },
  {
   "cell_type": "code",
   "execution_count": null,
   "id": "9435049f",
   "metadata": {},
   "outputs": [],
   "source": [
    "%%bash\n",
    "rm -rf shop\n",
    "git clone --branch v2.1.0 https://gitlab.com/ch-mc-b/autoshop-ms/app/shop.git\n",
    "cd shop\n",
    "sed -i -e \"s;registry.gitlab.com/ch-mc-b/autoshop-ms/app/shop;$(cat ~/work/server-ip):9443/library;g\" docker-compose.yml\n",
    "docker-compose build\n"
   ]
  },
  {
   "cell_type": "markdown",
   "id": "1aa8c6bc",
   "metadata": {},
   "source": [
    "Und pushen die Microservices in die Registry"
   ]
  },
  {
   "cell_type": "code",
   "execution_count": null,
   "id": "bd43890b",
   "metadata": {},
   "outputs": [],
   "source": [
    "%%bash\n",
    "cd shop\n",
    "docker image ls | grep $(cat ~/work/server-ip)\n",
    "docker-compose push"
   ]
  },
  {
   "cell_type": "markdown",
   "id": "6257c10c",
   "metadata": {},
   "source": [
    "Weiter geht es mit dem Deployment auf Kubernetes"
   ]
  },
  {
   "cell_type": "code",
   "execution_count": null,
   "id": "e80e893a",
   "metadata": {},
   "outputs": [],
   "source": [
    "%%bash\n",
    "# Clean\n",
    "sudo rm -rf kubernetes-templates/\n",
    "# Kubernetes Deklarationen\n",
    "git clone https://gitlab.com/ch-mc-b/autoshop-ms/infra/kubernetes-templates.git\n",
    "cp -r kubernetes-templates/2.1.0-deployment/ shop/k8s/\n",
    "cp kubernetes-templates/*-service.yaml kubernetes-templates/*-ingress.yaml shop/k8s/\n",
    "# Registry von Gitlab auf Harbor Registry umstellen\n",
    "for yaml in shop/k8s/*-deployment.yaml\n",
    "do\n",
    "    sed -i -e \"s;registry.gitlab.com/ch-mc-b/autoshop-ms/app/shop;$(cat ~/work/server-ip):9443/library;g\" ${yaml}\n",
    "done\n",
    "sudo rm -rf kubernetes-templates shop/.git shop/docker-compose.yml shop/m1\n",
    "cat shop/k8s/order-deployment.yaml"
   ]
  },
  {
   "cell_type": "code",
   "execution_count": null,
   "id": "0b5838cc",
   "metadata": {},
   "outputs": [],
   "source": [
    "%%bash\n",
    "kubectl create namespace shop-harbor\n",
    "kubectl apply --namespace shop-harbor -f shop/k8s"
   ]
  },
  {
   "cell_type": "markdown",
   "id": "9ac926cd",
   "metadata": {},
   "source": [
    "***\n",
    "\n",
    "### Aufträge\n",
    "- Repliziert Eure Container Registries bzw. die Images nach Harbor.\n",
    "- Erstellt ein eigenes Container Image und legt es in die Harbor Registry ab.\n",
    "- Legt ein helm Chart in der Harbor Registry ab"
   ]
  },
  {
   "cell_type": "markdown",
   "id": "451a8559",
   "metadata": {},
   "source": [
    "**Links:**\n",
    "[Harbor Installer](https://goharbor.io/docs/2.12.0/install-config/run-installer-script/)"
   ]
  },
  {
   "cell_type": "markdown",
   "id": "84e2bdbe",
   "metadata": {},
   "source": [
    "- - - \n",
    "\n",
    "### Aufräumen"
   ]
  },
  {
   "cell_type": "code",
   "execution_count": null,
   "id": "c0d0d759",
   "metadata": {},
   "outputs": [],
   "source": [
    "%%bash\n",
    "kubectl delete --namespace shop-harbor -f shop/k8s\n",
    "kubectl delete namespace shop-harbor \n",
    "sudo rm -rf shop kubernetes-templates/"
   ]
  },
  {
   "cell_type": "code",
   "execution_count": null,
   "id": "dc38f149",
   "metadata": {},
   "outputs": [],
   "source": []
  }
 ],
 "metadata": {
  "kernelspec": {
   "display_name": "Python 3 (ipykernel)",
   "language": "python",
   "name": "python3"
  },
  "language_info": {
   "codemirror_mode": {
    "name": "ipython",
    "version": 3
   },
   "file_extension": ".py",
   "mimetype": "text/x-python",
   "name": "python",
   "nbconvert_exporter": "python",
   "pygments_lexer": "ipython3",
   "version": "3.12.3"
  }
 },
 "nbformat": 4,
 "nbformat_minor": 5
}
