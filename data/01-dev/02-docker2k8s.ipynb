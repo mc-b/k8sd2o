{
 "cells": [
  {
   "cell_type": "markdown",
   "id": "eb051711",
   "metadata": {},
   "source": [
    "## Docker Buildx\n",
    "\n",
    "1. **Unterliegende Technologie**  \n",
    "   „`docker build`“ nutzt standardmässig den klassischen Moby-/Docker‑Daemon‑Builder, während „`docker buildx`“ immer BuildKit als Engine verwendet. Buildx ist im Kern ein CLI‑Plugin, das BuildKit‑Funktionen freischaltet, während „`docker build`“ nur optional auf BuildKit zugreifen kann, wenn es explizit aktiviert wurde.\n",
    "\n",
    "2. **Multi‑Plattform‑Builds**  \n",
    "   Mit Buildx lassen sich Images für mehrere Architekturen in einem Aufruf erstellen (z. B. `--platform linux/amd64,linux/arm64`), während das klassische „`docker build`“ nur für die lokale Architektur baut und keine integrierte Mehrfach‑Plattform‑Unterstützung bietet.\n",
    "\n",
    "3. **Erweiterte Caching‑Möglichkeiten**  \n",
    "   Buildx unterstützt feingranulare Cache‑Kontrolle über `--cache-to` und `--cache-from` mit verschiedenen Backends (Registry, S3, lokal, GitHub Actions etc.), um Caches zwischen Builds und Umgebungen zu teilen. Das herkömmliche „`docker build`“ verwendet nur den internen lokalen Layer‑Cache des Daemons und bietet keine Remote‑Cache‑Exports.\n",
    "\n",
    "4. **Builder‑Instanzen und Treiber**  \n",
    "   Buildx erlaubt das Anlegen mehrerer, entkoppelter Builder‑Instanzen (z. B. mit dem Docker‑Container‑ oder Kubernetes‑Treiber), lokal oder remote. So kann man verschiedene Umgebungen parallel verwalten. „`docker build`“ dagegen ist immer an den einen, lokalen Docker‑Daemon gebunden.\n",
    "\n",
    "5. **Flexible Ausgabe‑ und Exportformen**  \n",
    "   Mit Buildx lassen sich Build‑Ergebnisse nicht nur ins lokale Image‑Store laden, sondern direkt als Tar‑Archiv, OCI‑Layout oder in ein Registry‑Image exportieren (`--output`‑Flag), und sogar mehrere Exporter parallel nutzen. Das klassische „`docker build`“ exportiert standardmäßig nur in den lokalen Daemon und kennt keine `--output`‑Vielfalt.\n",
    "\n",
    "6. **Bake‑Orchestrierung**  \n",
    "   Buildx bietet über den Befehl `docker buildx bake` eine deklarative, HCL‑basierte Möglichkeit, komplexe Multi‑Target‑Builds parallel und konsistent zu definieren. Für einfache Einzel‑Dockerfiles gibt es kaum Unterschiede zu CLI‑Flags, aber Bake skaliert viel besser für grosse Projekte und Team‑Setups."
   ]
  },
  {
   "cell_type": "markdown",
   "id": "3e0841fe",
   "metadata": {},
   "source": [
    "- - - \n",
    "### Auto Shop \n",
    "\n",
    "Als Beispielprojekt verwenden wir Auto Shop GmbH"
   ]
  },
  {
   "cell_type": "code",
   "execution_count": null,
   "id": "23245749",
   "metadata": {},
   "outputs": [],
   "source": [
    "%%bash\n",
    "git clone https://gitlab.com/ch-mc-b/autoshop-ms/app/shop.git shop-buildx"
   ]
  },
  {
   "cell_type": "markdown",
   "id": "1cf46e64",
   "metadata": {},
   "source": [
    "- - -\n",
    "\n",
    "### Kind\n",
    "\n",
    "Kind-Cluster laufen in Docker‑Containern, nutzen aber nicht automatisch den lokalen Docker‑Daemon. Du baust das Image mit Buildx ins lokale Docker‑Image‑Store und lädst es dann in Kind:"
   ]
  },
  {
   "cell_type": "code",
   "execution_count": null,
   "id": "ea4488da",
   "metadata": {},
   "outputs": [],
   "source": [
    "%%bash\n",
    "cd shop-buildx/webshop\n",
    "\n",
    "# 1. Build in lokalen Docker‑Store (docker‑Exporter, --load)\n",
    "docker buildx build -t webshop:buildx --platform linux/amd64 --load .\n",
    "\n",
    "# 2. Import in Kind\n",
    "kind load docker-image webshop:buildx --name kind"
   ]
  },
  {
   "cell_type": "code",
   "execution_count": null,
   "id": "1c7afbd7",
   "metadata": {},
   "outputs": [],
   "source": [
    "%%bash\n",
    "docker image ls"
   ]
  },
  {
   "cell_type": "markdown",
   "id": "b9d10e9f",
   "metadata": {},
   "source": [
    "Anzeige der Images in Kubernetes"
   ]
  },
  {
   "cell_type": "code",
   "execution_count": null,
   "id": "e75f514b",
   "metadata": {},
   "outputs": [],
   "source": [
    "%%bash\n",
    "docker exec $(docker ps -q -f name=kind-control-plane) crictl images"
   ]
  },
  {
   "cell_type": "markdown",
   "id": "adfe3f6f",
   "metadata": {},
   "source": [
    "- - -\n",
    "## Microk8s\n",
    "\n",
    "Du kannst das gebaute Image auch exportieren und mit Containerd importieren:"
   ]
  },
  {
   "cell_type": "code",
   "execution_count": null,
   "id": "0707410a",
   "metadata": {},
   "outputs": [],
   "source": [
    "%%bash\n",
    "\n",
    "# 1. Build in lokalen Docker‑Store (docker‑Exporter, --load)\n",
    "docker buildx build -t webshop:buildx --platform linux/amd64 --load .\n",
    "\n",
    "docker save webshop:buildx | microk8s ctr image import -\n"
   ]
  },
  {
   "cell_type": "markdown",
   "id": "3d181a6f",
   "metadata": {},
   "source": [
    "Anzeigen der Images in Kubernetes"
   ]
  },
  {
   "cell_type": "code",
   "execution_count": null,
   "id": "c75cef57",
   "metadata": {},
   "outputs": [],
   "source": [
    "%%bash\n",
    "microk8s ctr image ls"
   ]
  }
 ],
 "metadata": {
  "kernelspec": {
   "display_name": "Python 3 (ipykernel)",
   "language": "python",
   "name": "python3"
  },
  "language_info": {
   "codemirror_mode": {
    "name": "ipython",
    "version": 3
   },
   "file_extension": ".py",
   "mimetype": "text/x-python",
   "name": "python",
   "nbconvert_exporter": "python",
   "pygments_lexer": "ipython3",
   "version": "3.12.3"
  }
 },
 "nbformat": 4,
 "nbformat_minor": 5
}
