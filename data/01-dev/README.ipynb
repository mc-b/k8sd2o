{
 "cells": [
  {
   "cell_type": "markdown",
   "id": "d3e671f8",
   "metadata": {},
   "source": [
    "## Infrastruktur - Development\n",
    "\n",
    "Unser Kunde, die **Auto Shop GmbH**, ist in der **DACH-Region** tätig. Der Shop wird derzeit über [Docker Compose](https://gitlab.com/ch-mc-b/autoshop-ms/app/shop) betrieben, soll jedoch auf **Kubernetes** migriert werden. \n",
    "\n",
    "Mittels des Cloud-init Logs kann die Installation auf etwaige Fehler überprüft werden, ebenfalls erhalten wir eine Übersicht über die installierten Module"
   ]
  },
  {
   "cell_type": "code",
   "execution_count": null,
   "id": "1818674c",
   "metadata": {},
   "outputs": [],
   "source": [
    "%%bash\n",
    "sudo cat /var/log/cloud-init-output.log | grep -E 'INFO|ERROR' || true"
   ]
  },
  {
   "cell_type": "markdown",
   "id": "a1144e8e",
   "metadata": {},
   "source": [
    "Für die Entwicklung wurde eine `kind` Kubernetes Umgebung erstellt"
   ]
  },
  {
   "cell_type": "code",
   "execution_count": null,
   "id": "deeb0497",
   "metadata": {},
   "outputs": [],
   "source": [
    "%%bash\n",
    "kubectl get nodes"
   ]
  },
  {
   "cell_type": "markdown",
   "id": "9e9ecfbf",
   "metadata": {},
   "source": [
    "Um eine Verbindung mittels `ssh` in die VM herzustellen, gebt den nachfolgenden Befehl auf Eurem Notebook ein.\n",
    "\n",
    "Die `ssh`-Keys sind [hier](https://github.com/mc-b/lerncloud/tree/main/ssh)."
   ]
  },
  {
   "cell_type": "code",
   "execution_count": null,
   "id": "74faf958",
   "metadata": {},
   "outputs": [],
   "source": [
    "%%bash\n",
    "echo \"ssh -i ~/.ssh/lerncloud ubuntu@$(cat ~/work/server-ip)\""
   ]
  },
  {
   "cell_type": "markdown",
   "id": "f42fd44e",
   "metadata": {},
   "source": [
    "Falls installiert, kann das **Kubernetes Dashboard** (aus einer der oben genannten Distributionen) über die folgende URL aufgerufen werden. Ein Token oder eine Kubeconfig-Datei ist nicht erforderlich – einfach auf \"Skip\" bzw. \"Überspringen\" klicken."
   ]
  },
  {
   "cell_type": "code",
   "execution_count": null,
   "id": "dc99bd17",
   "metadata": {},
   "outputs": [],
   "source": [
    "%%bash\n",
    "echo \"https://$(cat ~/work/server-ip)\":30443"
   ]
  },
  {
   "cell_type": "markdown",
   "id": "8b2397d0",
   "metadata": {},
   "source": [
    "---\n",
    "\n",
    "### Installation der Applikationen und Zusatzprodukte\n",
    "\n",
    "Für die Entwicklung werden folgende Produkte benötigt:\n",
    "\n",
    "* [Container Image Registry (Harbor)](01-harbor.ipynb)\n",
    "* [Docker Buildx](02-docker2k8s.ipynb)\n",
    "* [Skaffold](03-skaffold.ipynb)\n",
    "* [Backstage.io](04-backstage.ipynb)\n",
    "* [OpenAI (ChatGPT) Beispiel](05-openai.ipynb)\n",
    "* [OpenAI - Abfrage von Vector Stores](06-openai-chat.ipynb)\n",
    "* [OpenAI - Erstellen eines Vector Stores](07-openai-vectorstore.ipynb)\n"
   ]
  },
  {
   "cell_type": "markdown",
   "id": "dd2be0a9",
   "metadata": {},
   "source": [
    "***\n",
    "Pull-Raten-Limits\n",
    "=================\n",
    "Docker Hub verwendet IP-Adressen, um die Benutzer zu authentifizieren, und Pull-Raten-Limits basieren auf einzelnen IP-Adressen. \n",
    "\n",
    "Für **anonyme Benutzer** ist das Ratenlimit auf 100 Abrufe pro 6 Stunden pro IP-Adresse festgelegt.\n",
    "\n",
    "Die aktuellen Zugriff können wir wie folgt abfragen:"
   ]
  },
  {
   "cell_type": "code",
   "execution_count": null,
   "id": "d4984d41",
   "metadata": {},
   "outputs": [],
   "source": [
    "%%bash\n",
    "TOKEN=$(curl -s \"https://auth.docker.io/token?service=registry.docker.io&scope=repository:ratelimitpreview/test:pull\" | jq -r .token)\n",
    "curl --head -H \"Authorization: Bearer $TOKEN\" https://registry-1.docker.io/v2/ratelimitpreview/test/manifests/latest"
   ]
  }
 ],
 "metadata": {
  "kernelspec": {
   "display_name": "Python 3 (ipykernel)",
   "language": "python",
   "name": "python3"
  },
  "language_info": {
   "codemirror_mode": {
    "name": "ipython",
    "version": 3
   },
   "file_extension": ".py",
   "mimetype": "text/x-python",
   "name": "python",
   "nbconvert_exporter": "python",
   "pygments_lexer": "ipython3",
   "version": "3.12.3"
  }
 },
 "nbformat": 4,
 "nbformat_minor": 5
}
